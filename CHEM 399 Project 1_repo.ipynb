{
 "cells": [
  {
   "cell_type": "code",
   "execution_count": 1,
   "metadata": {},
   "outputs": [],
   "source": [
    "import numpy as np\n",
    "import matplotlib.pyplot as plt\n",
    "import math\n",
    "from scipy.optimize import curve_fit\n",
    "#Importing these libraries allows for the manipulation of arrays, graph plotting and curve fitting\n",
    "from scipy import asarray as ar,exp\n",
    "#?Converts data into an array for exponential-like model\n",
    "from sklearn.linear_model import LinearRegression\n",
    "#Linear regression package\n",
    "from sklearn.metrics import mean_squared_error, r2_score\n",
    "from array import array\n",
    "import statistics"
   ]
  },
  {
   "cell_type": "code",
   "execution_count": 2,
   "metadata": {},
   "outputs": [],
   "source": [
    "def linear(m, x, b):\n",
    "    'Will return a slope m and y-intercept b for given values of x sent to the function'\n",
    "    return m*x + b\n",
    "def exponential(x, a, k, b):\n",
    "    ''''Will return the function y = a exp(k*x) + b for any data set x sent to the function'''\n",
    "    return a*np.exp(k*x) + b\n",
    "#first order kinetics\n",
    "def gauss_function(x,a1,b1,c1,o):\n",
    "    'Will return a normal distribution curve for a data set x and constants a, b, and c'\n",
    "    return a1*np.exp(-(x-b1)**2/(2*c1**2)) + o\n",
    "def gauss_function_ext(x,a1,a2,b1,b2,c1,c2,o):\n",
    "    'Will return two normal distribution curves for a data set x and constants a, b, and c'\n",
    "    return a1*np.exp(-(x-b1)**2/(2*c1**2))+a2*np.exp(-(x-b2)**2/(2*c2**2)) + o\n",
    "#c = sigma\n",
    "#would like to know when to specifically define mean and sigma"
   ]
  },
  {
   "cell_type": "markdown",
   "metadata": {},
   "source": [
    "# Linear Data Set Example"
   ]
  },
  {
   "cell_type": "code",
   "execution_count": 3,
   "metadata": {},
   "outputs": [
    {
     "data": {
      "text/plain": [
       "Text(0.5, 0, 'Glucose Concentration (mM)')"
      ]
     },
     "execution_count": 3,
     "metadata": {},
     "output_type": "execute_result"
    },
    {
     "data": {
      "image/png": "[encoded data removed]",
      "text/plain": [
       "<Figure size 432x288 with 1 Axes>"
      ]
     },
     "metadata": {
      "needs_background": "light"
     },
     "output_type": "display_data"
    }
   ],
   "source": [
    "conc, absorb = np.loadtxt(\"lineardataset.txt\", usecols=(0,1), unpack = True)\n",
    "plt.figure(1)\n",
    "plt.plot(conc, absorb)\n",
    "plt.ylabel(\"Absorbance (A)\")\n",
    "plt.xlabel(\"Glucose Concentration (mM)\")\n",
    "#I loaded data from a txt file and designated the x and y values of data as an array\n",
    "#(unpack = true) allows me to designate x, y at the beginning\n",
    "#I labeled the y and x axis"
   ]
  },
  {
   "cell_type": "code",
   "execution_count": 4,
   "metadata": {},
   "outputs": [
    {
     "name": "stdout",
     "output_type": "stream",
     "text": [
      "predicted y values:\n",
      "[[0.00828571]\n",
      " [0.14857143]\n",
      " [0.28885714]\n",
      " [0.42914286]\n",
      " [0.56942857]\n",
      " [0.70971429]]\n",
      "intercept: [0.00828571]\n",
      "slope: [[0.07014286]]\n",
      "R squared value: 0.9996384266250692\n"
     ]
    },
    {
     "data": {
      "image/png": "[encoded data removed]",
      "text/plain": [
       "<Figure size 432x288 with 1 Axes>"
      ]
     },
     "metadata": {
      "needs_background": "light"
     },
     "output_type": "display_data"
    }
   ],
   "source": [
    "#Setting up a linear model to fit the data\n",
    "#Turning original variables into arrays\n",
    "x = np.array([conc]).reshape((-1, 1))\n",
    "#x array is required to be 2-D (aka have one column and as many rows as necessary to \"work\" with y)\n",
    "y = np.array([absorb]).reshape((-1, 1))\n",
    "#The computer didn't like when I didn't also reshape the y variables, but based on the tutorial, not sure why this is required\n",
    "#Generally think it changes the amount of elements that you get??\n",
    "#Creating a linear regression object\n",
    "lr = LinearRegression()\n",
    "#Telling model to use the given data\n",
    "lr.fit(x, y)\n",
    "#Making predictions with the data\n",
    "y_predict = lr.predict(x)\n",
    "print('predicted y values:', y_predict, sep='\\n')\n",
    "#Printing relevant coefficients and values of line\n",
    "print('intercept:', lr.intercept_)\n",
    "print('slope:', lr.coef_)\n",
    "r_sq = lr.score(x,y)\n",
    "print('R squared value:', r_sq)\n",
    "plt.scatter(x, y, color='black')\n",
    "plt.plot(x, y_predict, color='blue', linewidth=1.5)\n",
    "plt.legend((\"Model\", \"Raw Data\"))\n",
    "plt.ylabel(\"Absorbance (A)\")\n",
    "plt.xlabel(\"Glucose Concentration (mM)\")\n",
    "\n",
    "plt.show()\n",
    "#curve_fit = can put multiple response (y) points at one x-axis point\n",
    "#test this\n",
    "#Resource for replicating LINEST function\n",
    "#look more into linear regression package\n",
    "#perr = standard deviation\n",
    "#Need to know how to grab numbers and multiply/divide accordingly\n",
    "#Next I want to have calculations of standard deviation (will need a replicate set of data), %RSD, and confidence interval for adding error bars; basically all calculations for AFMs"
   ]
  },
  {
   "cell_type": "code",
   "execution_count": 5,
   "metadata": {},
   "outputs": [
    {
     "name": "stdout",
     "output_type": "stream",
     "text": [
      "y intercept is  0.00828571428571434\n",
      "slope is [0.07014286]\n",
      "[4.93863774]\n"
     ]
    }
   ],
   "source": [
    "yint = lr.intercept_[0]\n",
    "print(\"y intercept is \", yint)\n",
    "slope = lr.coef_[0]\n",
    "print(\"slope is\", slope)\n",
    "#before adding the [0], saved it as an array that has one axis and one data point\n",
    "LOD = (3*statistics.stdev([1.3, 1.1, 1.3])) / (slope)\n",
    "print(LOD)"
   ]
  },
  {
   "cell_type": "code",
   "execution_count": 6,
   "metadata": {},
   "outputs": [
    {
     "name": "stdout",
     "output_type": "stream",
     "text": [
      "predicted y values:\n",
      "[[1.4730958  1.46670895 1.56334455]\n",
      " [1.65201588 1.65095692 1.7400364 ]\n",
      " [1.83093597 1.8352049  1.91672826]\n",
      " [2.00985605 2.01945287 2.09342011]\n",
      " [2.18877613 2.20370084 2.27011196]\n",
      " [2.54661629 2.57219679 2.62349567]\n",
      " [2.90445646 2.94069274 2.97687938]\n",
      " [3.26229662 3.30918868 3.33026309]\n",
      " [3.62013678 3.67768463 3.68364679]\n",
      " [4.33581711 4.41467652 4.39041421]\n",
      " [5.94609784 6.07290828 5.98064089]\n",
      " [8.62989907 8.83662787 8.6310187 ]]\n",
      "intercept: [1.4730958  1.46670895 1.56334455]\n",
      "slope: [[0.17892008]\n",
      " [0.18424797]\n",
      " [0.17669185]]\n",
      "R squared value: 0.995258335198442\n"
     ]
    },
    {
     "name": "stderr",
     "output_type": "stream",
     "text": [
      "C:\\Users\\krbar\\Anaconda3\\lib\\site-packages\\sklearn\\base.py:420: FutureWarning: The default value of multioutput (not exposed in score method) will change from 'variance_weighted' to 'uniform_average' in 0.23 to keep consistent with 'metrics.r2_score'. To specify the default value manually and avoid the warning, please either call 'metrics.r2_score' directly or make a custom scorer with 'metrics.make_scorer' (the built-in scorer 'r2' uses multioutput='uniform_average').\n",
      "  \"multioutput='uniform_average').\", FutureWarning)\n"
     ]
    },
    {
     "ename": "ValueError",
     "evalue": "x and y must be the same size",
     "output_type": "error",
     "traceback": [
      "\u001b[1;31m---------------------------------------------------------------------------\u001b[0m",
      "\u001b[1;31mValueError\u001b[0m                                Traceback (most recent call last)",
      "\u001b[1;32m<ipython-input-6-f4453c8a8fa5>\u001b[0m in \u001b[0;36m<module>\u001b[1;34m\u001b[0m\n\u001b[0;32m     14\u001b[0m \u001b[0mr_sq\u001b[0m \u001b[1;33m=\u001b[0m \u001b[0mlr\u001b[0m\u001b[1;33m.\u001b[0m\u001b[0mscore\u001b[0m\u001b[1;33m(\u001b[0m\u001b[0mx\u001b[0m\u001b[1;33m,\u001b[0m\u001b[0my\u001b[0m\u001b[1;33m)\u001b[0m\u001b[1;33m\u001b[0m\u001b[1;33m\u001b[0m\u001b[0m\n\u001b[0;32m     15\u001b[0m \u001b[0mprint\u001b[0m\u001b[1;33m(\u001b[0m\u001b[1;34m'R squared value:'\u001b[0m\u001b[1;33m,\u001b[0m \u001b[0mr_sq\u001b[0m\u001b[1;33m)\u001b[0m\u001b[1;33m\u001b[0m\u001b[1;33m\u001b[0m\u001b[0m\n\u001b[1;32m---> 16\u001b[1;33m \u001b[0mplt\u001b[0m\u001b[1;33m.\u001b[0m\u001b[0mscatter\u001b[0m\u001b[1;33m(\u001b[0m\u001b[0mx\u001b[0m\u001b[1;33m,\u001b[0m \u001b[0my\u001b[0m\u001b[1;33m,\u001b[0m \u001b[0mcolor\u001b[0m\u001b[1;33m=\u001b[0m\u001b[1;34m'black'\u001b[0m\u001b[1;33m)\u001b[0m\u001b[1;33m\u001b[0m\u001b[1;33m\u001b[0m\u001b[0m\n\u001b[0m\u001b[0;32m     17\u001b[0m \u001b[0mplt\u001b[0m\u001b[1;33m.\u001b[0m\u001b[0mplot\u001b[0m\u001b[1;33m(\u001b[0m\u001b[0mx\u001b[0m\u001b[1;33m,\u001b[0m \u001b[0my_predict\u001b[0m\u001b[1;33m,\u001b[0m \u001b[0mcolor\u001b[0m\u001b[1;33m=\u001b[0m\u001b[1;34m'blue'\u001b[0m\u001b[1;33m,\u001b[0m \u001b[0mlinewidth\u001b[0m\u001b[1;33m=\u001b[0m\u001b[1;36m1.5\u001b[0m\u001b[1;33m)\u001b[0m\u001b[1;33m\u001b[0m\u001b[1;33m\u001b[0m\u001b[0m\n\u001b[0;32m     18\u001b[0m \u001b[0mplt\u001b[0m\u001b[1;33m.\u001b[0m\u001b[0mlegend\u001b[0m\u001b[1;33m(\u001b[0m\u001b[1;33m(\u001b[0m\u001b[1;34m\"Model\"\u001b[0m\u001b[1;33m,\u001b[0m \u001b[1;34m\"Raw Data\"\u001b[0m\u001b[1;33m)\u001b[0m\u001b[1;33m)\u001b[0m\u001b[1;33m\u001b[0m\u001b[1;33m\u001b[0m\u001b[0m\n",
      "\u001b[1;32m~\\Anaconda3\\lib\\site-packages\\matplotlib\\pyplot.py\u001b[0m in \u001b[0;36mscatter\u001b[1;34m(x, y, s, c, marker, cmap, norm, vmin, vmax, alpha, linewidths, verts, edgecolors, plotnonfinite, data, **kwargs)\u001b[0m\n\u001b[0;32m   2839\u001b[0m         \u001b[0mverts\u001b[0m\u001b[1;33m=\u001b[0m\u001b[0mverts\u001b[0m\u001b[1;33m,\u001b[0m \u001b[0medgecolors\u001b[0m\u001b[1;33m=\u001b[0m\u001b[0medgecolors\u001b[0m\u001b[1;33m,\u001b[0m\u001b[1;33m\u001b[0m\u001b[1;33m\u001b[0m\u001b[0m\n\u001b[0;32m   2840\u001b[0m         plotnonfinite=plotnonfinite, **({\"data\": data} if data is not\n\u001b[1;32m-> 2841\u001b[1;33m         None else {}), **kwargs)\n\u001b[0m\u001b[0;32m   2842\u001b[0m     \u001b[0msci\u001b[0m\u001b[1;33m(\u001b[0m\u001b[0m__ret\u001b[0m\u001b[1;33m)\u001b[0m\u001b[1;33m\u001b[0m\u001b[1;33m\u001b[0m\u001b[0m\n\u001b[0;32m   2843\u001b[0m     \u001b[1;32mreturn\u001b[0m \u001b[0m__ret\u001b[0m\u001b[1;33m\u001b[0m\u001b[1;33m\u001b[0m\u001b[0m\n",
      "\u001b[1;32m~\\Anaconda3\\lib\\site-packages\\matplotlib\\__init__.py\u001b[0m in \u001b[0;36minner\u001b[1;34m(ax, data, *args, **kwargs)\u001b[0m\n\u001b[0;32m   1587\u001b[0m     \u001b[1;32mdef\u001b[0m \u001b[0minner\u001b[0m\u001b[1;33m(\u001b[0m\u001b[0max\u001b[0m\u001b[1;33m,\u001b[0m \u001b[1;33m*\u001b[0m\u001b[0margs\u001b[0m\u001b[1;33m,\u001b[0m \u001b[0mdata\u001b[0m\u001b[1;33m=\u001b[0m\u001b[1;32mNone\u001b[0m\u001b[1;33m,\u001b[0m \u001b[1;33m**\u001b[0m\u001b[0mkwargs\u001b[0m\u001b[1;33m)\u001b[0m\u001b[1;33m:\u001b[0m\u001b[1;33m\u001b[0m\u001b[1;33m\u001b[0m\u001b[0m\n\u001b[0;32m   1588\u001b[0m         \u001b[1;32mif\u001b[0m \u001b[0mdata\u001b[0m \u001b[1;32mis\u001b[0m \u001b[1;32mNone\u001b[0m\u001b[1;33m:\u001b[0m\u001b[1;33m\u001b[0m\u001b[1;33m\u001b[0m\u001b[0m\n\u001b[1;32m-> 1589\u001b[1;33m             \u001b[1;32mreturn\u001b[0m \u001b[0mfunc\u001b[0m\u001b[1;33m(\u001b[0m\u001b[0max\u001b[0m\u001b[1;33m,\u001b[0m \u001b[1;33m*\u001b[0m\u001b[0mmap\u001b[0m\u001b[1;33m(\u001b[0m\u001b[0msanitize_sequence\u001b[0m\u001b[1;33m,\u001b[0m \u001b[0margs\u001b[0m\u001b[1;33m)\u001b[0m\u001b[1;33m,\u001b[0m \u001b[1;33m**\u001b[0m\u001b[0mkwargs\u001b[0m\u001b[1;33m)\u001b[0m\u001b[1;33m\u001b[0m\u001b[1;33m\u001b[0m\u001b[0m\n\u001b[0m\u001b[0;32m   1590\u001b[0m \u001b[1;33m\u001b[0m\u001b[0m\n\u001b[0;32m   1591\u001b[0m         \u001b[0mbound\u001b[0m \u001b[1;33m=\u001b[0m \u001b[0mnew_sig\u001b[0m\u001b[1;33m.\u001b[0m\u001b[0mbind\u001b[0m\u001b[1;33m(\u001b[0m\u001b[0max\u001b[0m\u001b[1;33m,\u001b[0m \u001b[1;33m*\u001b[0m\u001b[0margs\u001b[0m\u001b[1;33m,\u001b[0m \u001b[1;33m**\u001b[0m\u001b[0mkwargs\u001b[0m\u001b[1;33m)\u001b[0m\u001b[1;33m\u001b[0m\u001b[1;33m\u001b[0m\u001b[0m\n",
      "\u001b[1;32m~\\Anaconda3\\lib\\site-packages\\matplotlib\\axes\\_axes.py\u001b[0m in \u001b[0;36mscatter\u001b[1;34m(self, x, y, s, c, marker, cmap, norm, vmin, vmax, alpha, linewidths, verts, edgecolors, plotnonfinite, **kwargs)\u001b[0m\n\u001b[0;32m   4434\u001b[0m         \u001b[0my\u001b[0m \u001b[1;33m=\u001b[0m \u001b[0mnp\u001b[0m\u001b[1;33m.\u001b[0m\u001b[0mma\u001b[0m\u001b[1;33m.\u001b[0m\u001b[0mravel\u001b[0m\u001b[1;33m(\u001b[0m\u001b[0my\u001b[0m\u001b[1;33m)\u001b[0m\u001b[1;33m\u001b[0m\u001b[1;33m\u001b[0m\u001b[0m\n\u001b[0;32m   4435\u001b[0m         \u001b[1;32mif\u001b[0m \u001b[0mx\u001b[0m\u001b[1;33m.\u001b[0m\u001b[0msize\u001b[0m \u001b[1;33m!=\u001b[0m \u001b[0my\u001b[0m\u001b[1;33m.\u001b[0m\u001b[0msize\u001b[0m\u001b[1;33m:\u001b[0m\u001b[1;33m\u001b[0m\u001b[1;33m\u001b[0m\u001b[0m\n\u001b[1;32m-> 4436\u001b[1;33m             \u001b[1;32mraise\u001b[0m \u001b[0mValueError\u001b[0m\u001b[1;33m(\u001b[0m\u001b[1;34m\"x and y must be the same size\"\u001b[0m\u001b[1;33m)\u001b[0m\u001b[1;33m\u001b[0m\u001b[1;33m\u001b[0m\u001b[0m\n\u001b[0m\u001b[0;32m   4437\u001b[0m \u001b[1;33m\u001b[0m\u001b[0m\n\u001b[0;32m   4438\u001b[0m         \u001b[1;32mif\u001b[0m \u001b[0ms\u001b[0m \u001b[1;32mis\u001b[0m \u001b[1;32mNone\u001b[0m\u001b[1;33m:\u001b[0m\u001b[1;33m\u001b[0m\u001b[1;33m\u001b[0m\u001b[0m\n",
      "\u001b[1;31mValueError\u001b[0m: x and y must be the same size"
     ]
    },
    {
     "data": {
      "image/png": "[encoded data removed]",
      "text/plain": [
       "<Figure size 432x288 with 1 Axes>"
      ]
     },
     "metadata": {
      "needs_background": "light"
     },
     "output_type": "display_data"
    }
   ],
   "source": [
    "#Trying out multiple linear regression\n",
    "x = [0, 1, 2, 3, 4, 6, 8, 10, 12, 16, 25, 40]\n",
    "y = [[1.3, 1.1, 1.3], [1.5, 1.5, 1.9], [1.9, 2.1, 2], [2.2, 2.2, 2], [2.3, 2.2, 2.3], [2.5, 2.6, 2.6], [2.9, 3, 3], [3.2, 3.2, 3.4], [3.7, 3.8, 3.6], [4.2, 4.5, 4.6], [6.2, 6, 5.9], [8.5, 8.8, 8.6]]\n",
    "x, y = np.array(x).reshape((-1, 1)), np.array(y)\n",
    "lr = LinearRegression()\n",
    "#Telling model to use the given data\n",
    "lr.fit(x, y)\n",
    "#Making predictions with the data\n",
    "y_predict = lr.predict(x)\n",
    "print('predicted y values:', y_predict, sep='\\n')\n",
    "#Printing relevant coefficients and values of line\n",
    "print('intercept:', lr.intercept_)\n",
    "print('slope:', lr.coef_)\n",
    "r_sq = lr.score(x,y)\n",
    "print('R squared value:', r_sq)\n",
    "plt.scatter(x, y, color='black')\n",
    "plt.plot(x, y_predict, color='blue', linewidth=1.5)\n",
    "plt.legend((\"Model\", \"Raw Data\"))\n",
    "plt.ylabel(\"Peak Area Units (A.U.)\")\n",
    "plt.xlabel(\"Compound Concentration (pg/mL)\")"
   ]
  },
  {
   "cell_type": "code",
   "execution_count": null,
   "metadata": {},
   "outputs": [],
   "source": [
    "#Try 2\n",
    "from numpy.polynomial.polynomial import polyfit\n",
    "x = np.array([0, 0, 0, 1, 1, 1, 2, 2, 2, 3, 3, 3, 4, 4, 4, 6, 6, 6, 8, 8, 8, 10, 10, 10, 12, 12, 12, 16, 16, 16, 25, 25, 25, 40, 40, 40])\n",
    "y = np.array([1.3, 1.1, 1.3, 1.5, 1.5, 1.9, 1.9, 2.1, 2, 2.2, 2.2, 2, 2.3, 2.2, 2.3, 2.5, 2.6, 2.6, 2.9, 3, 3, 3.2, 3.2, 3.4, 3.7, 3.8, 3.6, 4.2, 4.5, 4.6, 6.2, 6, 5.9, 8.5, 8.8, 8.6])\n",
    "\n",
    "b, m = polyfit(x, y, '.')\n",
    "\n",
    "plt.plot(x, y, '.')\n",
    "plt.plot(x, x * m + b, '-')\n",
    "plt.show()"
   ]
  },
  {
   "cell_type": "code",
   "execution_count": null,
   "metadata": {
    "scrolled": true
   },
   "outputs": [],
   "source": [
    "#Try 3\n",
    "x = np.array([0, 0, 0, 1, 1, 1, 2, 2, 2, 3, 3, 3, 4, 4, 4, 6, 6, 6, 8, 8, 8, 10, 10, 10, 12, 12, 12, 16, 16, 16, 25, 25, 25, 40, 40, 40])\n",
    "y = np.array([1.3, 1.1, 1.3, 1.5, 1.5, 1.9, 1.9, 2.1, 2, 2.2, 2.2, 2, 2.3, 2.2, 2.3, 2.5, 2.6, 2.6, 2.9, 3, 3, 3.2, 3.2, 3.4, 3.7, 3.8, 3.6, 4.2, 4.5, 4.6, 6.2, 6, 5.9, 8.5, 8.8, 8.6])\n",
    "x, y = np.array(x).reshape((-1, 1)), np.array(y).reshape((-1, 1))\n",
    "lr = LinearRegression()\n",
    "#Telling model to use the given data\n",
    "lr.fit(x, y)\n",
    "#Making predictions with the data\n",
    "y_predict = lr.predict(x)\n",
    "print('predicted y values:', y_predict, sep='\\n')\n",
    "#Printing relevant coefficients and values of line\n",
    "print('intercept:', lr.intercept_)\n",
    "print('slope:', lr.coef_)\n",
    "r_sq = lr.score(x,y)\n",
    "print('R squared value:', r_sq)\n",
    "plt.scatter(x, y, color='black')\n",
    "plt.plot(x, y_predict, color='blue', linewidth=1.5)\n",
    "plt.legend((\"Model\", \"Raw Data\"))\n",
    "plt.ylabel(\"Peak Area Units (A.U.)\")\n",
    "plt.xlabel(\"Compound Concentration (pg/mL)\")"
   ]
  },
  {
   "cell_type": "code",
   "execution_count": 14,
   "metadata": {
    "scrolled": true
   },
   "outputs": [
    {
     "name": "stdout",
     "output_type": "stream",
     "text": [
      "predicted y values:\n",
      "[[1.50104977]\n",
      " [1.68100307]\n",
      " [1.86095637]\n",
      " [2.04090968]\n",
      " [2.22086298]\n",
      " [2.58076958]\n",
      " [2.94067619]\n",
      " [3.3005828 ]\n",
      " [3.6604894 ]\n",
      " [4.38030261]\n",
      " [5.99988234]\n",
      " [8.69918188]]\n",
      "intercept: [1.50104977]\n",
      "slope: [[0.1799533]]\n",
      "R squared value: 0.9976394542763032\n"
     ]
    },
    {
     "data": {
      "text/plain": [
       "Text(0.5, 0, 'Compound Concentration (pg/mL)')"
      ]
     },
     "execution_count": 14,
     "metadata": {},
     "output_type": "execute_result"
    },
    {
     "data": {
      "image/png": "[encoded data removed]",
      "text/plain": [
       "<Figure size 432x288 with 1 Axes>"
      ]
     },
     "metadata": {
      "needs_background": "light"
     },
     "output_type": "display_data"
    }
   ],
   "source": [
    "#Comparing with averaged points\n",
    "x = np.array([0, 1, 2, 3, 4, 6, 8, 10, 12, 16, 25, 40])\n",
    "y = np.array([[(1.3 + 1.1 + 1.3)/(3)], [(1.5 + 1.5 + 1.9)/(3)], [(1.9 + 2.1 + 2)/(3)], [(2.2 + 2.2 + 2)/(3)], [(2.3 + 2.2 + 2.3)/(3)], [(2.5 + 2.6 + 2.6)/(3)], [(2.9 + 3 + 3)/(3)], [(3.2 + 3.2 + 3.4)/(3)], [(3.7 + 3.8 + 3.6)/(3)], [(4.2 + 4.5 + 4.6)/(3)], [(6.2 + 6 + 5.9)/(3)], [(8.5 + 8.8 + 8.6)/(3)]])\n",
    "x, y = np.array(x).reshape((-1, 1)), np.array(y).reshape((-1, 1))\n",
    "lr = LinearRegression()\n",
    "#Telling model to use the given data\n",
    "lr.fit(x, y)\n",
    "#Making predictions with the data\n",
    "y_predict = lr.predict(x)\n",
    "print('predicted y values:', y_predict, sep='\\n')\n",
    "#Printing relevant coefficients and values of line\n",
    "print('intercept:', lr.intercept_)\n",
    "print('slope:', lr.coef_)\n",
    "r_sq = lr.score(x,y)\n",
    "print('R squared value:', r_sq)\n",
    "plt.errorbar(x, y, yerr=[err1, err2, err3, err4, err5, err6, err7, err8, err9, err10, err11, err12], color='black', capsize=1, marker ='.', linestyle = 'None')\n",
    "plt.plot(x, y_predict, color='orange', linewidth=1.5)\n",
    "plt.legend((\"Model\", \"Raw Data\"))\n",
    "plt.ylabel(\"Peak Area Units (A.U.)\")\n",
    "plt.xlabel(\"Compound Concentration (pg/mL)\")\n"
   ]
  },
  {
   "cell_type": "code",
   "execution_count": 13,
   "metadata": {},
   "outputs": [
    {
     "name": "stdout",
     "output_type": "stream",
     "text": [
      "Help on function errorbar in module matplotlib.pyplot:\n",
      "\n",
      "errorbar(x, y, yerr=None, xerr=None, fmt='', ecolor=None, elinewidth=None, capsize=None, barsabove=False, lolims=False, uplims=False, xlolims=False, xuplims=False, errorevery=1, capthick=None, *, data=None, **kwargs)\n",
      "    Plot y versus x as lines and/or markers with attached errorbars.\n",
      "    \n",
      "    *x*, *y* define the data locations, *xerr*, *yerr* define the errorbar\n",
      "    sizes. By default, this draws the data markers/lines as well the\n",
      "    errorbars. Use fmt='none' to draw errorbars without any data markers.\n",
      "    \n",
      "    Parameters\n",
      "    ----------\n",
      "    x, y : scalar or array-like\n",
      "        The data positions.\n",
      "    \n",
      "    xerr, yerr : scalar or array-like, shape(N,) or shape(2,N), optional\n",
      "        The errorbar sizes:\n",
      "    \n",
      "        - scalar: Symmetric +/- values for all data points.\n",
      "        - shape(N,): Symmetric +/-values for each data point.\n",
      "        - shape(2,N): Separate - and + values for each bar. First row\n",
      "            contains the lower errors, the second row contains the\n",
      "            upper errors.\n",
      "        - *None*: No errorbar.\n",
      "    \n",
      "        Note that all error arrays should have *positive* values.\n",
      "    \n",
      "        See :doc:`/gallery/statistics/errorbar_features`\n",
      "        for an example on the usage of ``xerr`` and ``yerr``.\n",
      "    \n",
      "    fmt : plot format string, optional, default: ''\n",
      "        The format for the data points / data lines. See `.plot` for\n",
      "        details.\n",
      "    \n",
      "        Use 'none' (case insensitive) to plot errorbars without any data\n",
      "        markers.\n",
      "    \n",
      "    ecolor : mpl color, optional, default: None\n",
      "        A matplotlib color arg which gives the color the errorbar lines.\n",
      "        If None, use the color of the line connecting the markers.\n",
      "    \n",
      "    elinewidth : scalar, optional, default: None\n",
      "        The linewidth of the errorbar lines. If None, the linewidth of\n",
      "        the current style is used.\n",
      "    \n",
      "    capsize : scalar, optional, default: None\n",
      "        The length of the error bar caps in points. If None, it will take\n",
      "        the value from :rc:`errorbar.capsize`.\n",
      "    \n",
      "    capthick : scalar, optional, default: None\n",
      "        An alias to the keyword argument *markeredgewidth* (a.k.a. *mew*).\n",
      "        This setting is a more sensible name for the property that\n",
      "        controls the thickness of the error bar cap in points. For\n",
      "        backwards compatibility, if *mew* or *markeredgewidth* are given,\n",
      "        then they will over-ride *capthick*. This may change in future\n",
      "        releases.\n",
      "    \n",
      "    barsabove : bool, optional, default: False\n",
      "        If True, will plot the errorbars above the plot\n",
      "        symbols. Default is below.\n",
      "    \n",
      "    lolims, uplims, xlolims, xuplims : bool, optional, default: None\n",
      "        These arguments can be used to indicate that a value gives only\n",
      "        upper/lower limits. In that case a caret symbol is used to\n",
      "        indicate this. *lims*-arguments may be of the same type as *xerr*\n",
      "        and *yerr*.  To use limits with inverted axes, :meth:`set_xlim`\n",
      "        or :meth:`set_ylim` must be called before :meth:`errorbar`.\n",
      "    \n",
      "    errorevery : positive integer, optional, default: 1\n",
      "        Subsamples the errorbars. e.g., if errorevery=5, errorbars for\n",
      "        every 5-th datapoint will be plotted. The data plot itself still\n",
      "        shows all data points.\n",
      "    \n",
      "    Returns\n",
      "    -------\n",
      "    container : :class:`~.container.ErrorbarContainer`\n",
      "        The container contains:\n",
      "    \n",
      "        - plotline: :class:`~matplotlib.lines.Line2D` instance of\n",
      "          x, y plot markers and/or line.\n",
      "        - caplines: A tuple of :class:`~matplotlib.lines.Line2D` instances\n",
      "          of the error bar caps.\n",
      "        - barlinecols: A tuple of\n",
      "          :class:`~matplotlib.collections.LineCollection` with the\n",
      "          horizontal and vertical error ranges.\n",
      "    \n",
      "    Other Parameters\n",
      "    ----------------\n",
      "    **kwargs\n",
      "        All other keyword arguments are passed on to the plot\n",
      "        command for the markers. For example, this code makes big red\n",
      "        squares with thick green edges::\n",
      "    \n",
      "            x,y,yerr = rand(3,10)\n",
      "            errorbar(x, y, yerr, marker='s', mfc='red',\n",
      "                     mec='green', ms=20, mew=4)\n",
      "    \n",
      "        where *mfc*, *mec*, *ms* and *mew* are aliases for the longer\n",
      "        property names, *markerfacecolor*, *markeredgecolor*, *markersize*\n",
      "        and *markeredgewidth*.\n",
      "    \n",
      "        Valid kwargs for the marker properties are `.Lines2D` properties:\n",
      "    \n",
      "      agg_filter: a filter function, which takes a (m, n, 3) float array and a dpi value, and returns a (m, n, 3) array\n",
      "      alpha: float\n",
      "      animated: bool\n",
      "      antialiased or aa: bool\n",
      "      clip_box: `.Bbox`\n",
      "      clip_on: bool\n",
      "      clip_path: [(`~matplotlib.path.Path`, `.Transform`) | `.Patch` | None]\n",
      "      color or c: color\n",
      "      contains: callable\n",
      "      dash_capstyle: {'butt', 'round', 'projecting'}\n",
      "      dash_joinstyle: {'miter', 'round', 'bevel'}\n",
      "      dashes: sequence of floats (on/off ink in points) or (None, None)\n",
      "      drawstyle or ds: {'default', 'steps', 'steps-pre', 'steps-mid', 'steps-post'}, default: 'default'\n",
      "      figure: `.Figure`\n",
      "      fillstyle: {'full', 'left', 'right', 'bottom', 'top', 'none'}\n",
      "      gid: str\n",
      "      in_layout: bool\n",
      "      label: object\n",
      "      linestyle or ls: {'-', '--', '-.', ':', '', (offset, on-off-seq), ...}\n",
      "      linewidth or lw: float\n",
      "      marker: marker style\n",
      "      markeredgecolor or mec: color\n",
      "      markeredgewidth or mew: float\n",
      "      markerfacecolor or mfc: color\n",
      "      markerfacecoloralt or mfcalt: color\n",
      "      markersize or ms: float\n",
      "      markevery: None or int or (int, int) or slice or List[int] or float or (float, float)\n",
      "      path_effects: `.AbstractPathEffect`\n",
      "      picker: float or callable[[Artist, Event], Tuple[bool, dict]]\n",
      "      pickradius: float\n",
      "      rasterized: bool or None\n",
      "      sketch_params: (scale: float, length: float, randomness: float)\n",
      "      snap: bool or None\n",
      "      solid_capstyle: {'butt', 'round', 'projecting'}\n",
      "      solid_joinstyle: {'miter', 'round', 'bevel'}\n",
      "      transform: `matplotlib.transforms.Transform`\n",
      "      url: str\n",
      "      visible: bool\n",
      "      xdata: 1D array\n",
      "      ydata: 1D array\n",
      "      zorder: float\n",
      "    \n",
      "    Notes\n",
      "    -----\n",
      "    \n",
      "    \n",
      "    .. note::\n",
      "        In addition to the above described arguments, this function can take a\n",
      "        **data** keyword argument. If such a **data** argument is given, the\n",
      "        following arguments are replaced by **data[<arg>]**:\n",
      "    \n",
      "        * All arguments with the following names: 'x', 'xerr', 'y', 'yerr'.\n",
      "    \n",
      "        Objects passed as **data** must support item access (``data[<arg>]``) and\n",
      "        membership test (``<arg> in data``).\n",
      "\n"
     ]
    }
   ],
   "source": [
    "help(plt.errorbar)"
   ]
  },
  {
   "cell_type": "code",
   "execution_count": 15,
   "metadata": {},
   "outputs": [
    {
     "name": "stdout",
     "output_type": "stream",
     "text": [
      "Mean: 1.2333333333333334\n",
      "Standard Deviation: 0.09428090415820632\n"
     ]
    }
   ],
   "source": [
    "#Manually getting standard deviation and variance try 1\n",
    "#This doesn't seem to get the right numbers\n",
    "dataset1 = [1.3, 1.1, 1.3]\n",
    "print('Mean:', np.mean(dataset1))\n",
    "print('Standard Deviation:', np.std(dataset1))\n",
    "\n",
    "#Try 2\n",
    "def stdev(data):\n",
    "    n = len(data)\n",
    "    mean = sum(data) / n\n",
    "    deviations = [(x - mean) ** 2 for x in data]\n",
    "    stdev = math.sqrt(sum(deviations) / (n-1))\n",
    "    return stdev\n",
    "\n",
    "stdev([1.3, 1.1, 1.3])\n",
    "#Yay!!!!!\n",
    "\n",
    "def RSD(mean, stdev):\n",
    "    return (stdev/mean)*(100)\n",
    "\n",
    "def CI(t, stdev, n):\n",
    "    return (t*stdev)/(math.sqrt(n))\n",
    "\n",
    "err1 = CI(4.303, statistics.stdev([1.3, 1.1, 1.3]), 3)\n",
    "err2 = CI(4.303, statistics.stdev([1.5, 1.5, 1.9]), 3)\n",
    "err3 = CI(4.303, statistics.stdev([1.9, 2.1, 2]), 3)\n",
    "err4 = CI(4.303, statistics.stdev([2.2, 2.2, 2]), 3)\n",
    "err5 = CI(4.303, statistics.stdev([2.3, 2.2, 2.3]), 3)\n",
    "err6 = CI(4.303, statistics.stdev([2.5, 2.6, 2.6]), 3)\n",
    "err7 = CI(4.303, statistics.stdev([2.9, 3, 3]), 3)\n",
    "err8 = CI(4.303, statistics.stdev([3.2, 3.2, 3.4]), 3)\n",
    "err9 = CI(4.303, statistics.stdev([3.7, 3.8, 3.6]), 3)\n",
    "err10 = CI(4.303, statistics.stdev([4.2, 4.5, 4.6]), 3)\n",
    "err11 = CI(4.303, statistics.stdev([6.2, 6, 5.9]), 3)\n",
    "err12 = CI(4.303, statistics.stdev([8.5, 8.8, 8.6]), 3)\n",
    "\n",
    "#C++ better for processing computational data and does things faster bc doesn't hold things in memory as much"
   ]
  },
  {
   "cell_type": "code",
   "execution_count": 5,
   "metadata": {},
   "outputs": [
    {
     "name": "stdout",
     "output_type": "stream",
     "text": [
      "[[1 2 3]\n",
      " [4 5 6]]\n",
      "[2. 5.]\n"
     ]
    },
    {
     "data": {
      "text/plain": [
       "array([0.81649658, 0.81649658])"
      ]
     },
     "execution_count": 5,
     "metadata": {},
     "output_type": "execute_result"
    }
   ],
   "source": [
    "#Putting all the data points into an array to make easier to work with\n",
    "data = np.array([[1,2,3], [4,5,6]])\n",
    "print(data)\n",
    "#Accessing the first set of data points; data[1] would get second set and so forth...\n",
    "data[0]\n",
    "#Getting the number of data points (if doing mean/stdev manually)\n",
    "np.size(data[0])\n",
    "#Ways to directly axis the mean std of the full dataset; shouldn't need to for loop\n",
    "print(np.mean(data, axis=1))\n",
    "np.std(data, axis=1)"
   ]
  },
  {
   "cell_type": "code",
   "execution_count": 17,
   "metadata": {},
   "outputs": [
    {
     "name": "stdout",
     "output_type": "stream",
     "text": [
      "[2. 5.]\n",
      "[2.5 3.5 4.5]\n"
     ]
    }
   ],
   "source": [
    "#rows -- this is what I'll want for my data\n",
    "print(np.mean(data, axis=1))\n",
    "#columns\n",
    "print(np.mean(data, axis=0))\n",
    "#Goal -- calculate confidence intervals again\n",
    "#con_interval = (an array that is 12 elements long)\n",
    "#t table in python?? Google"
   ]
  },
  {
   "cell_type": "code",
   "execution_count": 10,
   "metadata": {},
   "outputs": [
    {
     "name": "stdout",
     "output_type": "stream",
     "text": [
      "[0.0942809  0.18856181 0.08164966 0.0942809  0.04714045 0.04714045\n",
      " 0.04714045 0.0942809  0.08164966 0.16996732 0.12472191 0.12472191]\n",
      "3\n",
      "[0.23422565 0.46845131 0.20284537 0.23422565 0.11711283 0.11711283\n",
      " 0.11711283 0.23422565 0.20284537 0.4222563  0.30985141 0.30985141]\n"
     ]
    }
   ],
   "source": [
    "data1 = np.array([[1.3, 1.1, 1.3], [1.5, 1.5, 1.9], [1.9, 2.1, 2], [2.2, 2.2, 2], [2.3, 2.2, 2.3], [2.5, 2.6, 2.6], [2.9, 3, 3], [3.2, 3.2, 3.4], [3.7, 3.8, 3.6], [4.2, 4.5, 4.6], [6.2, 6, 5.9], [8.5, 8.8, 8.6]])\n",
    "print(np.std(data1, axis=1))\n",
    "t1=4.303\n",
    "print(np.size(data1[0]))\n",
    "def CI(t, stdev, n):\n",
    "    return (t*stdev)/(math.sqrt(n))\n",
    "print(CI(t1, np.std(data1, axis=1), np.size(data1[0])))\n",
    "#WHOOOOO!! I do think this is population standard deviation, but I still got the general concept!"
   ]
  },
  {
   "cell_type": "code",
   "execution_count": null,
   "metadata": {},
   "outputs": [],
   "source": [
    "#Another try that works\n",
    "statistics.stdev([1.3, 1.1, 1.3])"
   ]
  },
  {
   "cell_type": "markdown",
   "metadata": {},
   "source": [
    "# Exponential Data Set Example"
   ]
  },
  {
   "cell_type": "code",
   "execution_count": null,
   "metadata": {},
   "outputs": [],
   "source": [
    "#Loading up 2021 dataset file with minimal glancing at model fitting lab\n",
    "#Always check the original data file in Jupyter if error messages pop up; could be an unnecessary space or character causing loading problems\n",
    "#Loading in data as arrays requires 'unpack = true' command because...\n",
    "raw_time, raw_volume = np.loadtxt(\"Mentos and Coke 2-2021.csv\", delimiter=',', usecols=(0,1), unpack = True)\n",
    "plt.plot(raw_time,raw_volume)"
   ]
  },
  {
   "cell_type": "code",
   "execution_count": null,
   "metadata": {
    "scrolled": true
   },
   "outputs": [],
   "source": [
    "#Cutting off data not relevant to model fitting using index function\n",
    "#Re-name arrays to represent new graph\n",
    "index = 12\n",
    "plt.plot(raw_time[index:], raw_volume[index:])\n",
    "time = raw_time[index:]\n",
    "volume = raw_volume[index:]\n",
    "plt.ylabel(\"Volume (mL)\")\n",
    "plt.xlabel(\"Time (sec)\")"
   ]
  },
  {
   "cell_type": "code",
   "execution_count": null,
   "metadata": {},
   "outputs": [],
   "source": [
    "popt_first, pcov_first = curve_fit(exponential, time, volume)\n",
    "print(popt_first)\n",
    "#First line\n",
    "popt_first, pcov_first = curve_fit(exponential, time, volume, p0=(750, -1, 0))\n",
    "print(popt_first)\n",
    "#Second line\n",
    "#With these commands, I ask the computer to give optimized parameters for the fitting of my raw data to an exponential model\n",
    "#The first printed line delivers the computer's predictions for a, k, and b based on the computer's search algorith. These \n",
    "    #numbers (especially a) are a bit out of range based on my raw data; the computer most likely picked a far away point on\n",
    "    #the parameter search surface from the real value and \"rolled downhill\" when picking the predicted values\n",
    "    #popt = sum of squares residuals minimized\n",
    "#a = the top of the curve on the y-axis (defines shape), k = rate of growth (+) or decay (-) (defines overall curvature), b = where the baseline hits\n",
    "#The second printed line represents the computer's new predictions for a, k, and b with my restrictions. The a parameter \n",
    "    #becomes slightly more reasonable.\n",
    "perr_first = np.sqrt(np.diag(pcov_first))\n",
    "#Computes one standard deviation (?absolute) of the parameters\n",
    "#Look up commands for computing  more standard deviations? Related to confidence intervals?\n",
    "print(perr_first)\n",
    "#Third line\n",
    "plt.bar(('a','k','b'), perr_first/popt_first*100)\n",
    "#Now we calculate the uncertainty (relative error) of the a, k, and b values in the exponential decay and place the percent error based on the real values in bar graph form (allowing us to compare to base values)\n",
    "plt.ylabel(\"Percent Error (%)\")\n",
    "plt.xlabel(\"Parameters of Model Equation\")\n",
    "#overflow = encountered a big number; then went a different direction"
   ]
  },
  {
   "cell_type": "code",
   "execution_count": null,
   "metadata": {},
   "outputs": [],
   "source": [
    "#Directly comparing raw data and model with residuals\n",
    "plt.subplot(212)\n",
    "#The plt.subplot functions allow the graphs to be stacked in a certain arrangement and to share an x-axis\n",
    "#212 = 2 rows, 1 column, work on the second plot\n",
    "#The top plot overlays the generated expontential model (based on parameters set above in the previous cell) on the raw data graph\n",
    "plt.plot(time, volume-exponential(time, popt_first[0],popt_first[1], popt_first[2]),'g')\n",
    "#The bottom plot (green color defined by 'g') is the residual plot based on the model and raw data (data generated by above line)\n",
    "plt.ylabel(\"Residuals\")\n",
    "plt.subplot(211, sharex=plt.gca())\n",
    "#now working on the first plot\n",
    "#gca = \n",
    "plt.scatter(time,volume, color='orange')\n",
    "plt.plot(time, exponential(time, popt_first[0],popt_first[1], popt_first[2]))\n",
    "plt.legend((\"Raw Data\", \"Model\"))\n",
    "plt.ylabel(\"Volume (mL)\")\n",
    "plt.xlabel(\"Time (sec)\")\n",
    "plt.subplots_adjust(hspace=0)"
   ]
  },
  {
   "cell_type": "markdown",
   "metadata": {},
   "source": [
    "# Gaussian Data Set Example"
   ]
  },
  {
   "cell_type": "code",
   "execution_count": 18,
   "metadata": {},
   "outputs": [
    {
     "data": {
      "text/plain": [
       "[<matplotlib.lines.Line2D at 0x238b5102a90>]"
      ]
     },
     "execution_count": 18,
     "metadata": {},
     "output_type": "execute_result"
    },
    {
     "data": {
      "image/png": "[encoded data removed]",
      "text/plain": [
       "<Figure size 432x288 with 1 Axes>"
      ]
     },
     "metadata": {
      "needs_background": "light"
     },
     "output_type": "display_data"
    }
   ],
   "source": [
    "#Remember model fitting link I have\n",
    "wvlngth, intensity = np.loadtxt(\"30s031320.txt\", usecols=(0,1), unpack = True)\n",
    "index = 350\n",
    "plt.plot(wvlngth[:index], intensity[:index])"
   ]
  },
  {
   "cell_type": "code",
   "execution_count": null,
   "metadata": {},
   "outputs": [],
   "source": [
    "x=ar(wvlngth[:index])\n",
    "y=ar(intensity[:index])\n",
    "n=len(x)\n",
    "#the number of data points\n",
    "\n",
    "def gauss_function(x,a1,a2,b1,b2,c1,c2,o):\n",
    "    return a1*np.exp(-(x-b1)**2/(2*c1**2))+a2*np.exp(-(x-b2)**2/(2*c2**2)) + o\n",
    "#c = sigma\n",
    "#used multiple variables because we expected multiple Gaussian peaks\n",
    "#would like to know when to specifically define mean and sigma\n",
    "\n",
    "popt,pcov = curve_fit(gauss_function, x, y, p0 = [0.12, 0.05, 350, 480, 50, 1, 0])\n",
    "#defining all constants, not x\n",
    "#notice x and y are the variables I defined above\n",
    "#p0 = initial guess for the parameters\n",
    "#pcov = estimated covariance of popt (the estimate)\n",
    "\n",
    "plt.figure(1)\n",
    "plt.plot(x,y,'b+:',label='data')\n",
    "#This is plotting the original data with the new x and y defined variables\n",
    "\n",
    "\n",
    "plt.figure(2)\n",
    "plt.plot(x, gauss_function(x, *popt), 'ro:', label='fit')\n",
    "#optimizes parameter values so the sum of squared residuals is minimized (if y data was subtracted)\n",
    "#The fit of the data assuming multiple Gaussians\n",
    "\n",
    "#can redfine x axis; change the index\n",
    "plt.figure(3)\n",
    "x_adjust = ar(wvlngth)\n",
    "#Success! But this x-axis still isn't big enough for the whole curve --> how to add values?\n",
    "plt.plot(x_adjust, popt[0]*np.exp(-(x_adjust-popt[2])**2/(2*popt[4]**2)))\n",
    "#I think this is optimizing a1, b1, and c1 specifically and focusing on the curve itself\n",
    "#I couldn't just use gauss_function because it defines all variables; I specifically wanted a1, b1, c1\n",
    "plt.ylabel(\"Absorbance (a.u.)\", fontsize=20)\n",
    "plt.xlabel(\"Wavelength (nm)\", fontsize=20)\n",
    "\n",
    "\n",
    "popt_sec, pcov_sec = curve_fit(gauss_function, x, y, p0 = [0.12, 0.05, 350, 480, 50, 1, 0])\n",
    "perr_sec = np.sqrt(np.diag(pcov_sec))\n",
    "#Now I can find relative error with estimated parameters and their standard deviations\n",
    "print(popt_sec)\n",
    "print(perr_sec)\n",
    "plt.figure(4)\n",
    "plt.bar(('a1','a2','b1','b2','c1','c2','o'), perr_sec/popt_sec*100)\n",
    "plt.ylabel(\"Percent Error (%)\")\n",
    "plt.xlabel(\"Parameters of Model Equation\")\n",
    "\n",
    "#Now want to compare to \"Model\" way of fitting a Gaussian function\n",
    "#learning how numpy arrays and broadcasting works (comp sci theory)"
   ]
  },
  {
   "cell_type": "code",
   "execution_count": 19,
   "metadata": {},
   "outputs": [
    {
     "name": "stdout",
     "output_type": "stream",
     "text": [
      "[1.19725984e-01 3.84588012e-02 3.12503118e+02 4.80428715e+02\n",
      " 8.46752592e+01 1.38168875e+01 5.38158698e-03]\n",
      "[3.01979144e-03 6.87647959e-04 4.62311309e+00 2.41934146e-01\n",
      " 2.46453025e+00 3.11253810e-01 2.08086823e-04]\n"
     ]
    },
    {
     "data": {
      "text/plain": [
       "Text(0.5, 0, 'Parameters of Model Equation')"
      ]
     },
     "execution_count": 19,
     "metadata": {},
     "output_type": "execute_result"
    },
    {
     "data": {
      "image/png": "[encoded data removed]",
      "text/plain": [
       "<Figure size 432x288 with 1 Axes>"
      ]
     },
     "metadata": {
      "needs_background": "light"
     },
     "output_type": "display_data"
    },
    {
     "data": {
      "image/png": "[encoded data removed]",
      "text/plain": [
       "<Figure size 432x288 with 1 Axes>"
      ]
     },
     "metadata": {
      "needs_background": "light"
     },
     "output_type": "display_data"
    },
    {
     "data": {
      "image/png": "[encoded data removed]",
      "text/plain": [
       "<Figure size 432x288 with 1 Axes>"
      ]
     },
     "metadata": {
      "needs_background": "light"
     },
     "output_type": "display_data"
    },
    {
     "data": {
      "image/png": "[encoded data removed]",
      "text/plain": [
       "<Figure size 432x288 with 1 Axes>"
      ]
     },
     "metadata": {
      "needs_background": "light"
     },
     "output_type": "display_data"
    }
   ],
   "source": [
    "x=ar(wvlngth[:index])\n",
    "y=ar(intensity[:index])\n",
    "n=len(x)\n",
    "#the number of data points\n",
    "\n",
    "def gauss_function(x,a1,a2,b1,b2,c1,c2,o):\n",
    "    return a1*np.exp(-(x-b1)**2/(2*c1**2))+a2*np.exp(-(x-b2)**2/(2*c2**2)) + o\n",
    "#c = sigma\n",
    "#used multiple variables because we expected multiple Gaussian peaks\n",
    "#would like to know when to specifically define mean and sigma\n",
    "\n",
    "popt,pcov = curve_fit(gauss_function, x, y, p0 = [0.12, 0.05, 350, 480, 50, 1, 0])\n",
    "#defining all constants, not x\n",
    "#notice x and y are the variables I defined above\n",
    "#p0 = initial guess for the parameters\n",
    "#pcov = estimated covariance of popt (the estimate)\n",
    "\n",
    "plt.figure(1)\n",
    "plt.plot(x,y,'b+:',label='data')\n",
    "#This is plotting the original data with the new x and y defined variables\n",
    "\n",
    "\n",
    "plt.figure(2)\n",
    "plt.plot(x, gauss_function(x, *popt), 'ro:', label='fit')\n",
    "#optimizes parameter values so the sum of squared residuals is minimized (if y data was subtracted)\n",
    "#The fit of the data assuming multiple Gaussians\n",
    "\n",
    "#can redfine x axis; change the index\n",
    "plt.figure(3)\n",
    "x_adjust = np.arange(0, 701, 1)\n",
    "#SUCCESS WITH USING A NEW NUMPY ARRAY TOOL!\n",
    "plt.plot(x_adjust, popt[0]*np.exp(-(x_adjust-popt[2])**2/(2*popt[4]**2)))\n",
    "#I think this is optimizing a1, b1, and c1 specifically and focusing on the curve itself\n",
    "#I couldn't just use gauss_function because it defines all variables; I specifically wanted a1, b1, c1\n",
    "plt.ylabel(\"Absorbance (a.u.)\", fontsize=20)\n",
    "plt.xlabel(\"Wavelength (nm)\", fontsize=20)\n",
    "\n",
    "\n",
    "popt_sec, pcov_sec = curve_fit(gauss_function, x, y, p0 = [0.12, 0.05, 350, 480, 50, 1, 0])\n",
    "perr_sec = np.sqrt(np.diag(pcov_sec))\n",
    "#Now I can find relative error with estimated parameters and their standard deviations\n",
    "print(popt_sec)\n",
    "print(perr_sec)\n",
    "plt.figure(4)\n",
    "plt.bar(('a1','a2','b1','b2','c1','c2','o'), perr_sec/popt_sec*100)\n",
    "plt.ylabel(\"Percent Error (%)\")\n",
    "plt.xlabel(\"Parameters of Model Equation\")\n",
    "\n",
    "#Now want to compare to \"Model\" way of fitting a Gaussian function\n",
    "#learning how numpy arrays and broadcasting works (comp sci theory)"
   ]
  },
  {
   "cell_type": "code",
   "execution_count": 23,
   "metadata": {},
   "outputs": [
    {
     "name": "stdout",
     "output_type": "stream",
     "text": [
      "[0 1 2 3]\n",
      "(4,)\n",
      "(4, 1)\n"
     ]
    }
   ],
   "source": [
    "x = np.arange(4)\n",
    "print(x)\n",
    "#2-D array\n",
    "xx=x.reshape(4,1)\n",
    "print(x.shape)\n",
    "print(xx.shape)"
   ]
  },
  {
   "cell_type": "code",
   "execution_count": null,
   "metadata": {},
   "outputs": [],
   "source": []
  }
 ],
 "metadata": {
  "kernelspec": {
   "display_name": "Python 3",
   "language": "python",
   "name": "python3"
  },
  "language_info": {
   "codemirror_mode": {
    "name": "ipython",
    "version": 3
   },
   "file_extension": ".py",
   "mimetype": "text/x-python",
   "name": "python",
   "nbconvert_exporter": "python",
   "pygments_lexer": "ipython3",
   "version": "3.7.3"
  }
 },
 "nbformat": 4,
 "nbformat_minor": 2
}
