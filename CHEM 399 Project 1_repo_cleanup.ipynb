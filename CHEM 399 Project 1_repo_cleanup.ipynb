{
 "cells": [
  {
   "cell_type": "markdown",
   "metadata": {},
   "source": [
    "The following model fittings and calculations aim to show skills in: 1) manipulating data with NumPy arrays; 2) creating functions for efficient statistics analysis; 3) understanding plot residuals (exponential curve); 4) showing plots for specific subsets of data (Gaussian curve)."
   ]
  },
  {
   "cell_type": "markdown",
   "metadata": {},
   "source": [
    "Here, packages were imported into Python to appropriately work with data. NumPy (includes a wide variety of libraries) was used for manipulating arrays and some statistical analysis. Matplotlib.pyploy was used to plot data. 'Math' was used to perform basic calculations in created functions. 'Curve_fit' was used for fitting exponential and Gaussian data and providing error measurements. 'Asarray' converts data into an array for fitting a certain model (double-check this). 'LinearRegression' was used for fitting linear calibration curve data and providing analytical figures of merit."
   ]
  },
  {
   "cell_type": "code",
   "execution_count": 1,
   "metadata": {},
   "outputs": [],
   "source": [
    "import numpy as np\n",
    "import matplotlib.pyplot as plt\n",
    "import math\n",
    "from scipy.optimize import curve_fit\n",
    "from scipy import asarray as ar,exp\n",
    "from sklearn.linear_model import LinearRegression\n",
    "import pandas as pd"
   ]
  },
  {
   "cell_type": "markdown",
   "metadata": {},
   "source": [
    "Curve functions are defined to use with curve_fit commands."
   ]
  },
  {
   "cell_type": "code",
   "execution_count": 2,
   "metadata": {},
   "outputs": [],
   "source": [
    "def exponential(x, a, k, b):\n",
    "    ''''Will return the function y = a exp(k*x) + b for any data set x sent to the function'''\n",
    "    return a*np.exp(k*x) + b\n",
    "def gauss_function(x,a1,a2,b1,b2,c1,c2,o):\n",
    "    ''''Will return a normal distribution curve for a data set x and constants a, b, and c; double variables used for identifying two Gaussian curves in data'''\n",
    "    return a1*np.exp(-(x-b1)**2/(2*c1**2))+a2*np.exp(-(x-b2)**2/(2*c2**2)) + o"
   ]
  },
  {
   "cell_type": "markdown",
   "metadata": {},
   "source": [
    "# Linear Data Set Example"
   ]
  },
  {
   "cell_type": "markdown",
   "metadata": {},
   "source": [
    "For linear calibration curve data, statistical parameters and analytical figures of merit (AFMs) are defined. Y-axis data is placed into a NumPy array."
   ]
  },
  {
   "cell_type": "code",
   "execution_count": 3,
   "metadata": {},
   "outputs": [],
   "source": [
    "#Using population standard deviation -- check if numpy has sample standard deviation\n",
    "def CI(t, stdev, n):\n",
    "    return (t*stdev)/(math.sqrt(n))\n",
    "def RSD(stdev, mean):\n",
    "    return (stdev/mean)*(100)\n",
    "def LOD(stdev_blank, slope):\n",
    "    return (3*stdev_blank) / (slope)\n",
    "def LLOQ(stdev_blank, yint):\n",
    "    return (10*stdev_blank) + (yint)\n",
    "def errmean(stdev, n):\n",
    "    return (stdev)/(math.sqrt(n))\n",
    "def sens(slope, stdev):\n",
    "    return(slope/stdev)\n",
    "data1 = np.array([[1.3, 1.1, 1.3], [1.5, 1.5, 1.9], [1.9, 2.1, 2], [2.2, 2.2, 2], [2.3, 2.2, 2.3], [2.5, 2.6, 2.6], [2.9, 3, 3], [3.2, 3.2, 3.4], [3.7, 3.8, 3.6], [4.2, 4.5, 4.6], [6.2, 6, 5.9], [8.5, 8.8, 8.6]])\n",
    "t1=4.303"
   ]
  },
  {
   "cell_type": "markdown",
   "metadata": {},
   "source": [
    "1) X and y-axis values are defined and reshaped as 2-D datasets to be compatiable with curve fitting. 2) The linear regression model is defined and gives predicted y-values based on experimental y data. The slope and y-intercept are provided for later AFM calculations. Linearity is assessed with an R-squared value. 3) Error bars are defined with the 95% confidence intervals of averaged data points."
   ]
  },
  {
   "cell_type": "code",
   "execution_count": 4,
   "metadata": {
    "scrolled": true
   },
   "outputs": [
    {
     "name": "stdout",
     "output_type": "stream",
     "text": [
      "predicted y values:\n",
      "[[1.50104977]\n",
      " [1.68100307]\n",
      " [1.86095637]\n",
      " [2.04090968]\n",
      " [2.22086298]\n",
      " [2.58076958]\n",
      " [2.94067619]\n",
      " [3.3005828 ]\n",
      " [3.6604894 ]\n",
      " [4.38030261]\n",
      " [5.99988234]\n",
      " [8.69918188]]\n",
      "intercept: [1.50104977]\n",
      "slope: [[0.1799533]]\n",
      "R squared value: 0.9976394542763032\n"
     ]
    },
    {
     "data": {
      "text/plain": [
       "Text(0.5, 0, 'Compound Concentration (pg/mL)')"
      ]
     },
     "execution_count": 4,
     "metadata": {},
     "output_type": "execute_result"
    },
    {
     "data": {
      "image/png": "[encoded data removed]",
      "text/plain": [
       "<Figure size 432x288 with 1 Axes>"
      ]
     },
     "metadata": {
      "needs_background": "light"
     },
     "output_type": "display_data"
    }
   ],
   "source": [
    "x = np.array([0, 1, 2, 3, 4, 6, 8, 10, 12, 16, 25, 40])\n",
    "y = np.mean(data1, axis=1)\n",
    "x, y = np.array(x).reshape((-1, 1)), np.array(y).reshape((-1, 1))\n",
    "lr = LinearRegression()\n",
    "#Telling model to use the given data\n",
    "lr.fit(x, y)\n",
    "#Making predictions with the data\n",
    "y_predict = lr.predict(x)\n",
    "print('predicted y values:', y_predict, sep='\\n')\n",
    "#Printing relevant coefficients and values of line\n",
    "print('intercept:', lr.intercept_)\n",
    "print('slope:', lr.coef_)\n",
    "r_sq = lr.score(x,y)\n",
    "print('R squared value:', r_sq)\n",
    "plt.errorbar(x, y, yerr=CI(t1, np.std(data1, axis=1), np.size(data1[0])), color='black', capsize=1, marker ='.', linestyle = 'None')\n",
    "plt.plot(x, y_predict, color='orange', linewidth=1.5)\n",
    "plt.legend((\"Model\", \"Raw Data\"))\n",
    "plt.ylabel(\"Peak Area Units (A.U.)\")\n",
    "plt.xlabel(\"Compound Concentration (pg/mL)\")\n",
    "#Next, learn how to do figure captions - just do in markdown and add to Word/wherever paper is"
   ]
  },
  {
   "cell_type": "markdown",
   "metadata": {},
   "source": [
    "AFMs that define the precision and sensitivity of the calibrated method:"
   ]
  },
  {
   "cell_type": "code",
   "execution_count": 6,
   "metadata": {
    "scrolled": true
   },
   "outputs": [
    {
     "name": "stdout",
     "output_type": "stream",
     "text": [
      "Relative standard deviations (%) are [ 9.3624368  14.13919027  5.          5.41265877  2.54713354  2.24941663\n",
      "  1.9461245   3.53479757  2.7027027   4.69548722  2.53180978  1.76933425]\n",
      "Limit of detection is [1.57175616] pg/mL\n",
      "Lower limit of quantification is 2.4438588090153726 pg/mL\n"
     ]
    }
   ],
   "source": [
    "RSDs = RSD(np.std(data1, axis=1, ddof=1), np.mean(data1, axis=1))\n",
    "LOD1 = LOD(np.std(data1[0]), lr.coef_[0])\n",
    "LLOQ1 = LLOQ(np.std(data1[0]), lr.intercept_[0])\n",
    "#before adding the [0], saved it as an array that has one axis and one data point\n",
    "print(\"Relative standard deviations (%) are\", RSDs)\n",
    "print(\"Limit of detection is\", LOD1, \"pg/mL\")\n",
    "print(\"Lower limit of quantification is\", LLOQ1, \"pg/mL\")\n",
    "#Learn how to get these in coherent tables and cut down significant figures"
   ]
  },
  {
   "cell_type": "code",
   "execution_count": 48,
   "metadata": {},
   "outputs": [
    {
     "data": {
      "text/plain": [
       "12.94"
      ]
     },
     "execution_count": 48,
     "metadata": {},
     "output_type": "execute_result"
    }
   ],
   "source": [
    "def truncate(n, decimals=2):\n",
    "    multiplier = 10 ** decimals\n",
    "    return int(n * multiplier) / multiplier\n",
    "truncate(12.945835983)\n",
    "#Cool that this works for single numbers, but doesn't work for arrays"
   ]
  },
  {
   "cell_type": "code",
   "execution_count": 50,
   "metadata": {},
   "outputs": [
    {
     "data": {
      "text/plain": [
       "array([ 9.36, 14.14,  5.  ,  5.41,  2.55,  2.25,  1.95,  3.53,  2.7 ,\n",
       "        4.7 ,  2.53,  1.77])"
      ]
     },
     "execution_count": 50,
     "metadata": {},
     "output_type": "execute_result"
    }
   ],
   "source": [
    "np.round(RSDs, 2)\n",
    "#Success!"
   ]
  },
  {
   "cell_type": "code",
   "execution_count": 7,
   "metadata": {
    "scrolled": true
   },
   "outputs": [
    {
     "data": {
      "text/plain": [
       "array([[1.3, 1.1, 1.3],\n",
       "       [1.5, 1.5, 1.9],\n",
       "       [1.9, 2.1, 2. ],\n",
       "       [2.2, 2.2, 2. ],\n",
       "       [2.3, 2.2, 2.3],\n",
       "       [2.5, 2.6, 2.6],\n",
       "       [2.9, 3. , 3. ],\n",
       "       [3.2, 3.2, 3.4],\n",
       "       [3.7, 3.8, 3.6],\n",
       "       [4.2, 4.5, 4.6],\n",
       "       [6.2, 6. , 5.9],\n",
       "       [8.5, 8.8, 8.6]])"
      ]
     },
     "execution_count": 7,
     "metadata": {},
     "output_type": "execute_result"
    }
   ],
   "source": [
    "#Redo of linear curve with keeping data together; need to put x-values in front of each set\n",
    "data2 = np.array([[0, 1.3, 1.1, 1.3], [1, 1.5, 1.5, 1.9], [2, 1.9, 2.1, 2], [3, 2.2, 2.2, 2], [4, 2.3, 2.2, 2.3], [6, 2.5, 2.6, 2.6], [8, 2.9, 3, 3], [10, 3.2, 3.2, 3.4], [12, 3.7, 3.8, 3.6], [16, 4.2, 4.5, 4.6], [25, 6.2, 6, 5.9], [40, 8.5, 8.8, 8.6]])\n",
    "data2[:,1:12]"
   ]
  },
  {
   "cell_type": "code",
   "execution_count": 8,
   "metadata": {},
   "outputs": [
    {
     "data": {
      "text/plain": [
       "array([ 0.,  1.,  2.,  3.,  4.,  6.,  8., 10., 12., 16., 25., 40.])"
      ]
     },
     "execution_count": 8,
     "metadata": {},
     "output_type": "execute_result"
    }
   ],
   "source": [
    "data2[:,0]"
   ]
  },
  {
   "cell_type": "code",
   "execution_count": 9,
   "metadata": {},
   "outputs": [
    {
     "name": "stdout",
     "output_type": "stream",
     "text": [
      "predicted y values:\n",
      "[1.50104977 1.68100307 1.86095637 2.04090968 2.22086298 2.58076958\n",
      " 2.94067619 3.3005828  3.6604894  4.38030261 5.99988234 8.69918188]\n",
      "intercept: 1.5010497674333094\n",
      "slope: [0.1799533]\n",
      "R squared value: 0.9976394542763032\n"
     ]
    },
    {
     "data": {
      "text/plain": [
       "Text(0.5, 0, 'Compound Concentration (pg/mL)')"
      ]
     },
     "execution_count": 9,
     "metadata": {},
     "output_type": "execute_result"
    },
    {
     "data": {
      "image/png": "[encoded data removed]",
      "text/plain": [
       "<Figure size 432x288 with 1 Axes>"
      ]
     },
     "metadata": {
      "needs_background": "light"
     },
     "output_type": "display_data"
    }
   ],
   "source": [
    "#success in keeping data together! y didn't have to be reshaped because it matched the (new) shape of x\n",
    "x = data2[:,0]\n",
    "y = np.mean(data2[:,1:12], axis=1)\n",
    "x, y = x.reshape((-1, 1)), y\n",
    "lr = LinearRegression()\n",
    "#Telling model to use the given data\n",
    "lr.fit(x, y)\n",
    "#Making predictions with the data\n",
    "y_predict = lr.predict(x)\n",
    "print('predicted y values:', y_predict, sep='\\n')\n",
    "#Printing relevant coefficients and values of line\n",
    "print('intercept:', lr.intercept_)\n",
    "print('slope:', lr.coef_)\n",
    "r_sq = lr.score(x,y)\n",
    "print('R squared value:', r_sq)\n",
    "plt.errorbar(x, y, yerr=CI(t1, np.std(data2[:,1:12], axis=1, ddof=1), 3), color='black', capsize=1, marker ='.', linestyle = 'None')\n",
    "plt.plot(x, y_predict, color='orange', linewidth=1.5)\n",
    "plt.legend((\"Model\", \"Raw Data\"))\n",
    "plt.ylabel(\"Peak Area Units (A.U.)\")\n",
    "plt.xlabel(\"Compound Concentration (pg/mL)\")"
   ]
  },
  {
   "cell_type": "code",
   "execution_count": 34,
   "metadata": {},
   "outputs": [
    {
     "ename": "IndexError",
     "evalue": "tuple index out of range",
     "output_type": "error",
     "traceback": [
      "\u001b[1;31m---------------------------------------------------------------------------\u001b[0m",
      "\u001b[1;31mTypeError\u001b[0m                                 Traceback (most recent call last)",
      "\u001b[1;32m~\\Anaconda3\\lib\\site-packages\\numpy\\lib\\shape_base.py\u001b[0m in \u001b[0;36msplit\u001b[1;34m(ary, indices_or_sections, axis)\u001b[0m\n\u001b[0;32m    842\u001b[0m     \u001b[1;32mtry\u001b[0m\u001b[1;33m:\u001b[0m\u001b[1;33m\u001b[0m\u001b[1;33m\u001b[0m\u001b[0m\n\u001b[1;32m--> 843\u001b[1;33m         \u001b[0mlen\u001b[0m\u001b[1;33m(\u001b[0m\u001b[0mindices_or_sections\u001b[0m\u001b[1;33m)\u001b[0m\u001b[1;33m\u001b[0m\u001b[1;33m\u001b[0m\u001b[0m\n\u001b[0m\u001b[0;32m    844\u001b[0m     \u001b[1;32mexcept\u001b[0m \u001b[0mTypeError\u001b[0m\u001b[1;33m:\u001b[0m\u001b[1;33m\u001b[0m\u001b[1;33m\u001b[0m\u001b[0m\n",
      "\u001b[1;31mTypeError\u001b[0m: object of type 'int' has no len()",
      "\nDuring handling of the above exception, another exception occurred:\n",
      "\u001b[1;31mIndexError\u001b[0m                                Traceback (most recent call last)",
      "\u001b[1;32m<ipython-input-34-d8f8a4f228fb>\u001b[0m in \u001b[0;36m<module>\u001b[1;34m\u001b[0m\n\u001b[0;32m      2\u001b[0m \u001b[0mnew_std_values\u001b[0m \u001b[1;33m=\u001b[0m \u001b[0mnp\u001b[0m\u001b[1;33m.\u001b[0m\u001b[0msplit\u001b[0m\u001b[1;33m(\u001b[0m\u001b[0mstd_values\u001b[0m\u001b[1;33m,\u001b[0m \u001b[1;36m12\u001b[0m\u001b[1;33m)\u001b[0m\u001b[1;33m\u001b[0m\u001b[1;33m\u001b[0m\u001b[0m\n\u001b[0;32m      3\u001b[0m \u001b[0mmean_values\u001b[0m \u001b[1;33m=\u001b[0m \u001b[0mnp\u001b[0m\u001b[1;33m.\u001b[0m\u001b[0mmean\u001b[0m\u001b[1;33m(\u001b[0m\u001b[0mdata2\u001b[0m\u001b[1;33m[\u001b[0m\u001b[1;33m:\u001b[0m\u001b[1;33m,\u001b[0m\u001b[1;36m1\u001b[0m\u001b[1;33m:\u001b[0m\u001b[1;36m12\u001b[0m\u001b[1;33m]\u001b[0m\u001b[1;33m)\u001b[0m\u001b[1;33m\u001b[0m\u001b[1;33m\u001b[0m\u001b[0m\n\u001b[1;32m----> 4\u001b[1;33m \u001b[0mnew_mean_values\u001b[0m \u001b[1;33m=\u001b[0m \u001b[0mnp\u001b[0m\u001b[1;33m.\u001b[0m\u001b[0msplit\u001b[0m\u001b[1;33m(\u001b[0m\u001b[0mmean_values\u001b[0m\u001b[1;33m,\u001b[0m \u001b[1;36m3\u001b[0m\u001b[1;33m)\u001b[0m\u001b[1;33m\u001b[0m\u001b[1;33m\u001b[0m\u001b[0m\n\u001b[0m",
      "\u001b[1;32m~\\Anaconda3\\lib\\site-packages\\numpy\\lib\\shape_base.py\u001b[0m in \u001b[0;36msplit\u001b[1;34m(ary, indices_or_sections, axis)\u001b[0m\n\u001b[0;32m    844\u001b[0m     \u001b[1;32mexcept\u001b[0m \u001b[0mTypeError\u001b[0m\u001b[1;33m:\u001b[0m\u001b[1;33m\u001b[0m\u001b[1;33m\u001b[0m\u001b[0m\n\u001b[0;32m    845\u001b[0m         \u001b[0msections\u001b[0m \u001b[1;33m=\u001b[0m \u001b[0mindices_or_sections\u001b[0m\u001b[1;33m\u001b[0m\u001b[1;33m\u001b[0m\u001b[0m\n\u001b[1;32m--> 846\u001b[1;33m         \u001b[0mN\u001b[0m \u001b[1;33m=\u001b[0m \u001b[0mary\u001b[0m\u001b[1;33m.\u001b[0m\u001b[0mshape\u001b[0m\u001b[1;33m[\u001b[0m\u001b[0maxis\u001b[0m\u001b[1;33m]\u001b[0m\u001b[1;33m\u001b[0m\u001b[1;33m\u001b[0m\u001b[0m\n\u001b[0m\u001b[0;32m    847\u001b[0m         \u001b[1;32mif\u001b[0m \u001b[0mN\u001b[0m \u001b[1;33m%\u001b[0m \u001b[0msections\u001b[0m\u001b[1;33m:\u001b[0m\u001b[1;33m\u001b[0m\u001b[1;33m\u001b[0m\u001b[0m\n\u001b[0;32m    848\u001b[0m             raise ValueError(\n",
      "\u001b[1;31mIndexError\u001b[0m: tuple index out of range"
     ]
    }
   ],
   "source": [
    "std_values = np.std(data2[:,1:12], axis=1, ddof=1)\n",
    "new_std_values = np.split(std_values, 12)\n",
    "mean_values = np.mean(data2[:,1:12])\n",
    "new_mean_values = np.split(mean_values, 3)"
   ]
  },
  {
   "cell_type": "code",
   "execution_count": 38,
   "metadata": {},
   "outputs": [],
   "source": [
    "RSDs2 = RSD(std_values, mean_values)\n",
    "SEMs = errmean(np.std(data2[:,1:12], axis=1, ddof=1), 3)\n",
    "AS = sens(lr.coef_[0], np.std(data2[:,1:12], axis=1, ddof=1))"
   ]
  },
  {
   "cell_type": "code",
   "execution_count": 39,
   "metadata": {},
   "outputs": [],
   "source": [
    "#Putting data into tables with appropriate sig figs\n",
    "df = pd.DataFrame({\"Relative standard deviation (%)\": [RSDs2], \"Standard error of mean\": [SEMs], \"Analytical sensitivity\": [AS],})"
   ]
  },
  {
   "cell_type": "code",
   "execution_count": 40,
   "metadata": {},
   "outputs": [
    {
     "data": {
      "text/html": [
       "<div>\n",
       "<style scoped>\n",
       "    .dataframe tbody tr th:only-of-type {\n",
       "        vertical-align: middle;\n",
       "    }\n",
       "\n",
       "    .dataframe tbody tr th {\n",
       "        vertical-align: top;\n",
       "    }\n",
       "\n",
       "    .dataframe thead th {\n",
       "        text-align: right;\n",
       "    }\n",
       "</style>\n",
       "<table border=\"1\" class=\"dataframe\">\n",
       "  <thead>\n",
       "    <tr style=\"text-align: right;\">\n",
       "      <th></th>\n",
       "      <th>Relative standard deviation (%)</th>\n",
       "      <th>Standard error of mean</th>\n",
       "      <th>Analytical sensitivity</th>\n",
       "    </tr>\n",
       "  </thead>\n",
       "  <tbody>\n",
       "    <tr>\n",
       "      <th>0</th>\n",
       "      <td>[3.3906377962196608, 6.7812755924393215, 2.936...</td>\n",
       "      <td>[0.06666666666666665, 0.1333333333333333, 0.05...</td>\n",
       "      <td>[1.5584413173244431, 0.7792206586622216, 1.799...</td>\n",
       "    </tr>\n",
       "  </tbody>\n",
       "</table>\n",
       "</div>"
      ],
      "text/plain": [
       "                     Relative standard deviation (%)  \\\n",
       "0  [3.3906377962196608, 6.7812755924393215, 2.936...   \n",
       "\n",
       "                              Standard error of mean  \\\n",
       "0  [0.06666666666666665, 0.1333333333333333, 0.05...   \n",
       "\n",
       "                              Analytical sensitivity  \n",
       "0  [1.5584413173244431, 0.7792206586622216, 1.799...  "
      ]
     },
     "execution_count": 40,
     "metadata": {},
     "output_type": "execute_result"
    }
   ],
   "source": [
    "df"
   ]
  },
  {
   "cell_type": "markdown",
   "metadata": {},
   "source": [
    "# Exponential Data Set Example"
   ]
  },
  {
   "cell_type": "markdown",
   "metadata": {},
   "source": [
    "Exponential experimental data is loaded from a .csv file; 'unpack = True' allows argument arrays to be unpacked in an x, y, z...fashion for modeling. All data points are plotted below."
   ]
  },
  {
   "cell_type": "code",
   "execution_count": 13,
   "metadata": {},
   "outputs": [
    {
     "data": {
      "text/plain": [
       "[<matplotlib.lines.Line2D at 0x20a82814a90>]"
      ]
     },
     "execution_count": 13,
     "metadata": {},
     "output_type": "execute_result"
    },
    {
     "data": {
      "image/png": "[encoded data removed]",
      "text/plain": [
       "<Figure size 432x288 with 1 Axes>"
      ]
     },
     "metadata": {
      "needs_background": "light"
     },
     "output_type": "display_data"
    }
   ],
   "source": [
    "#Always check the original data file in Jupyter if error messages pop up; could be an unnecessary space or character causing loading problems\n",
    "raw_time, raw_volume = np.loadtxt(\"Mentos and Coke 2-2021.csv\", delimiter=',', usecols=(0,1), unpack = True)\n",
    "plt.plot(raw_time,raw_volume)"
   ]
  },
  {
   "cell_type": "markdown",
   "metadata": {},
   "source": [
    "An index is defined to omit data that is not relevant to the exponential curve. New arrays for the x- and y-axis are created based on the index."
   ]
  },
  {
   "cell_type": "code",
   "execution_count": 14,
   "metadata": {
    "scrolled": true
   },
   "outputs": [
    {
     "data": {
      "text/plain": [
       "Text(0.5, 0, 'Time (sec)')"
      ]
     },
     "execution_count": 14,
     "metadata": {},
     "output_type": "execute_result"
    },
    {
     "data": {
      "image/png": "[encoded data removed]",
      "text/plain": [
       "<Figure size 432x288 with 1 Axes>"
      ]
     },
     "metadata": {
      "needs_background": "light"
     },
     "output_type": "display_data"
    }
   ],
   "source": [
    "index = 12\n",
    "plt.plot(raw_time[index:], raw_volume[index:])\n",
    "time = raw_time[index:]\n",
    "volume = raw_volume[index:]\n",
    "plt.ylabel(\"Volume (mL)\")\n",
    "plt.xlabel(\"Time (sec)\")"
   ]
  },
  {
   "cell_type": "markdown",
   "metadata": {},
   "source": [
    "Computer calculations can estimate optimized parameters for fitting raw data to an expoential model based on minimized sum of squares residuals ('popt_first'). The 'p0' function allows a user to restrict the computer's predictions for better parameter estimates.\n",
    "\n",
    "'Perr_first' calculates the standard deviation of the predicted parameters and is used to calculate the uncertainty (relative error, %) of the parameters. The error for eeach parameter is shown in a bar chart."
   ]
  },
  {
   "cell_type": "code",
   "execution_count": 15,
   "metadata": {},
   "outputs": [
    {
     "name": "stdout",
     "output_type": "stream",
     "text": [
      "[-2.01256031e-20  9.99999520e-01  3.46428834e+02]\n",
      "[ 1.93870575e+03 -8.91092286e-02 -3.32176598e+01]\n",
      "[5.57348729e+01 2.85122981e-03 8.61185568e+00]\n"
     ]
    },
    {
     "name": "stderr",
     "output_type": "stream",
     "text": [
      "C:\\Users\\krbar\\Anaconda3\\lib\\site-packages\\ipykernel_launcher.py:3: RuntimeWarning: overflow encountered in multiply\n",
      "  This is separate from the ipykernel package so we can avoid doing imports until\n"
     ]
    },
    {
     "data": {
      "text/plain": [
       "Text(0.5, 0, 'Parameters of Model Equation')"
      ]
     },
     "execution_count": 15,
     "metadata": {},
     "output_type": "execute_result"
    },
    {
     "data": {
      "image/png": "[encoded data removed]",
      "text/plain": [
       "<Figure size 432x288 with 1 Axes>"
      ]
     },
     "metadata": {
      "needs_background": "light"
     },
     "output_type": "display_data"
    }
   ],
   "source": [
    "popt_first, pcov_first = curve_fit(exponential, time, volume)\n",
    "print(popt_first)\n",
    "#First line\n",
    "\n",
    "popt_first, pcov_first = curve_fit(exponential, time, volume, p0=(750, -1, 0))\n",
    "print(popt_first)\n",
    "#Second line\n",
    "\n",
    "perr_first = np.sqrt(np.diag(pcov_first))\n",
    "print(perr_first)\n",
    "#Third line\n",
    "plt.bar(('a','k','b'), perr_first/popt_first*100)\n",
    "plt.ylabel(\"Percent Error (%)\")\n",
    "plt.xlabel(\"Parameters of Model Equation\")\n",
    "#overflow = system encountered a large number, then went a different direction for estimation\n",
    "#a = the top of the curve on the y-axis (defines shape), k = rate of growth (+) or decay (-) (defines overall curvature), b = where the baseline hits"
   ]
  },
  {
   "cell_type": "markdown",
   "metadata": {},
   "source": [
    "Residuals (shown in green plot) verify the validity of a model fitting to raw data; the more \"random\" a residual plot it, the better the model fitting (less systematic error/bias). The 'subplot' function allows the model fitting and residual plots to be stacked."
   ]
  },
  {
   "cell_type": "code",
   "execution_count": 16,
   "metadata": {},
   "outputs": [
    {
     "data": {
      "image/png": "[encoded data removed]",
      "text/plain": [
       "<Figure size 432x288 with 2 Axes>"
      ]
     },
     "metadata": {
      "needs_background": "light"
     },
     "output_type": "display_data"
    }
   ],
   "source": [
    "plt.subplot(212)\n",
    "#212 = 2 rows, 1 column\n",
    "#The residual plot\n",
    "plt.plot(time, volume-exponential(time, popt_first[0],popt_first[1], popt_first[2]),'g')\n",
    "plt.ylabel(\"Residuals\")\n",
    "plt.subplot(211, sharex=plt.gca())\n",
    "#now working on the first plot\n",
    "#gca = \n",
    "plt.scatter(time,volume, color='orange')\n",
    "plt.plot(time, exponential(time, popt_first[0],popt_first[1], popt_first[2]))\n",
    "plt.legend((\"Model\", \"Raw Data\"))\n",
    "plt.ylabel(\"Volume (mL)\")\n",
    "plt.xlabel(\"Time (sec)\")\n",
    "plt.subplots_adjust(hspace=0)"
   ]
  },
  {
   "cell_type": "code",
   "execution_count": 17,
   "metadata": {},
   "outputs": [
    {
     "name": "stdout",
     "output_type": "stream",
     "text": [
      "Help on function legend in module matplotlib.pyplot:\n",
      "\n",
      "legend(*args, **kwargs)\n",
      "    Place a legend on the axes.\n",
      "    \n",
      "    Call signatures::\n",
      "    \n",
      "        legend()\n",
      "        legend(labels)\n",
      "        legend(handles, labels)\n",
      "    \n",
      "    The call signatures correspond to three different ways how to use\n",
      "    this method.\n",
      "    \n",
      "    **1. Automatic detection of elements to be shown in the legend**\n",
      "    \n",
      "    The elements to be added to the legend are automatically determined,\n",
      "    when you do not pass in any extra arguments.\n",
      "    \n",
      "    In this case, the labels are taken from the artist. You can specify\n",
      "    them either at artist creation or by calling the\n",
      "    :meth:`~.Artist.set_label` method on the artist::\n",
      "    \n",
      "        line, = ax.plot([1, 2, 3], label='Inline label')\n",
      "        ax.legend()\n",
      "    \n",
      "    or::\n",
      "    \n",
      "        line.set_label('Label via method')\n",
      "        line, = ax.plot([1, 2, 3])\n",
      "        ax.legend()\n",
      "    \n",
      "    Specific lines can be excluded from the automatic legend element\n",
      "    selection by defining a label starting with an underscore.\n",
      "    This is default for all artists, so calling `Axes.legend` without\n",
      "    any arguments and without setting the labels manually will result in\n",
      "    no legend being drawn.\n",
      "    \n",
      "    \n",
      "    **2. Labeling existing plot elements**\n",
      "    \n",
      "    To make a legend for lines which already exist on the axes\n",
      "    (via plot for instance), simply call this function with an iterable\n",
      "    of strings, one for each legend item. For example::\n",
      "    \n",
      "        ax.plot([1, 2, 3])\n",
      "        ax.legend(['A simple line'])\n",
      "    \n",
      "    Note: This way of using is discouraged, because the relation between\n",
      "    plot elements and labels is only implicit by their order and can\n",
      "    easily be mixed up.\n",
      "    \n",
      "    \n",
      "    **3. Explicitly defining the elements in the legend**\n",
      "    \n",
      "    For full control of which artists have a legend entry, it is possible\n",
      "    to pass an iterable of legend artists followed by an iterable of\n",
      "    legend labels respectively::\n",
      "    \n",
      "        legend((line1, line2, line3), ('label1', 'label2', 'label3'))\n",
      "    \n",
      "    Parameters\n",
      "    ----------\n",
      "    \n",
      "    handles : sequence of `.Artist`, optional\n",
      "        A list of Artists (lines, patches) to be added to the legend.\n",
      "        Use this together with *labels*, if you need full control on what\n",
      "        is shown in the legend and the automatic mechanism described above\n",
      "        is not sufficient.\n",
      "    \n",
      "        The length of handles and labels should be the same in this\n",
      "        case. If they are not, they are truncated to the smaller length.\n",
      "    \n",
      "    labels : sequence of strings, optional\n",
      "        A list of labels to show next to the artists.\n",
      "        Use this together with *handles*, if you need full control on what\n",
      "        is shown in the legend and the automatic mechanism described above\n",
      "        is not sufficient.\n",
      "    \n",
      "    Other Parameters\n",
      "    ----------------\n",
      "    \n",
      "    \n",
      "    loc : str or pair of floats, default: :rc:`legend.loc` ('best' for axes, 'upper right' for figures)\n",
      "        The location of the legend.\n",
      "    \n",
      "        The strings\n",
      "        ``'upper left', 'upper right', 'lower left', 'lower right'``\n",
      "        place the legend at the corresponding corner of the axes/figure.\n",
      "    \n",
      "        The strings\n",
      "        ``'upper center', 'lower center', 'center left', 'center right'``\n",
      "        place the legend at the center of the corresponding edge of the\n",
      "        axes/figure.\n",
      "    \n",
      "        The string ``'center'`` places the legend at the center of the axes/figure.\n",
      "    \n",
      "        The string ``'best'`` places the legend at the location, among the nine\n",
      "        locations defined so far, with the minimum overlap with other drawn\n",
      "        artists.  This option can be quite slow for plots with large amounts of\n",
      "        data; your plotting speed may benefit from providing a specific location.\n",
      "    \n",
      "        The location can also be a 2-tuple giving the coordinates of the lower-left\n",
      "        corner of the legend in axes coordinates (in which case *bbox_to_anchor*\n",
      "        will be ignored).\n",
      "    \n",
      "        For back-compatibility, ``'center right'`` (but no other location) can also\n",
      "        be spelled ``'right'``, and each \"string\" locations can also be given as a\n",
      "        numeric value:\n",
      "    \n",
      "            ===============   =============\n",
      "            Location String   Location Code\n",
      "            ===============   =============\n",
      "            'best'            0\n",
      "            'upper right'     1\n",
      "            'upper left'      2\n",
      "            'lower left'      3\n",
      "            'lower right'     4\n",
      "            'right'           5\n",
      "            'center left'     6\n",
      "            'center right'    7\n",
      "            'lower center'    8\n",
      "            'upper center'    9\n",
      "            'center'          10\n",
      "            ===============   =============\n",
      "    \n",
      "    bbox_to_anchor : `.BboxBase`, 2-tuple, or 4-tuple of floats\n",
      "        Box that is used to position the legend in conjunction with *loc*.\n",
      "        Defaults to `axes.bbox` (if called as a method to `.Axes.legend`) or\n",
      "        `figure.bbox` (if `.Figure.legend`).  This argument allows arbitrary\n",
      "        placement of the legend.\n",
      "    \n",
      "        Bbox coordinates are interpreted in the coordinate system given by\n",
      "        `bbox_transform`, with the default transform\n",
      "        Axes or Figure coordinates, depending on which ``legend`` is called.\n",
      "    \n",
      "        If a 4-tuple or `.BboxBase` is given, then it specifies the bbox\n",
      "        ``(x, y, width, height)`` that the legend is placed in.\n",
      "        To put the legend in the best location in the bottom right\n",
      "        quadrant of the axes (or figure)::\n",
      "    \n",
      "            loc='best', bbox_to_anchor=(0.5, 0., 0.5, 0.5)\n",
      "    \n",
      "        A 2-tuple ``(x, y)`` places the corner of the legend specified by *loc* at\n",
      "        x, y.  For example, to put the legend's upper right-hand corner in the\n",
      "        center of the axes (or figure) the following keywords can be used::\n",
      "    \n",
      "            loc='upper right', bbox_to_anchor=(0.5, 0.5)\n",
      "    \n",
      "    ncol : integer\n",
      "        The number of columns that the legend has. Default is 1.\n",
      "    \n",
      "    prop : None or :class:`matplotlib.font_manager.FontProperties` or dict\n",
      "        The font properties of the legend. If None (default), the current\n",
      "        :data:`matplotlib.rcParams` will be used.\n",
      "    \n",
      "    fontsize : int or float or {'xx-small', 'x-small', 'small', 'medium', 'large', 'x-large', 'xx-large'}\n",
      "        Controls the font size of the legend. If the value is numeric the\n",
      "        size will be the absolute font size in points. String values are\n",
      "        relative to the current default font size. This argument is only\n",
      "        used if `prop` is not specified.\n",
      "    \n",
      "    numpoints : None or int\n",
      "        The number of marker points in the legend when creating a legend\n",
      "        entry for a `.Line2D` (line).\n",
      "        Default is ``None``, which will take the value from\n",
      "        :rc:`legend.numpoints`.\n",
      "    \n",
      "    scatterpoints : None or int\n",
      "        The number of marker points in the legend when creating\n",
      "        a legend entry for a `.PathCollection` (scatter plot).\n",
      "        Default is ``None``, which will take the value from\n",
      "        :rc:`legend.scatterpoints`.\n",
      "    \n",
      "    scatteryoffsets : iterable of floats\n",
      "        The vertical offset (relative to the font size) for the markers\n",
      "        created for a scatter plot legend entry. 0.0 is at the base the\n",
      "        legend text, and 1.0 is at the top. To draw all markers at the\n",
      "        same height, set to ``[0.5]``. Default is ``[0.375, 0.5, 0.3125]``.\n",
      "    \n",
      "    markerscale : None or int or float\n",
      "        The relative size of legend markers compared with the originally\n",
      "        drawn ones.\n",
      "        Default is ``None``, which will take the value from\n",
      "        :rc:`legend.markerscale`.\n",
      "    \n",
      "    markerfirst : bool\n",
      "        If *True*, legend marker is placed to the left of the legend label.\n",
      "        If *False*, legend marker is placed to the right of the legend\n",
      "        label.\n",
      "        Default is *True*.\n",
      "    \n",
      "    frameon : None or bool\n",
      "        Control whether the legend should be drawn on a patch\n",
      "        (frame).\n",
      "        Default is ``None``, which will take the value from\n",
      "        :rc:`legend.frameon`.\n",
      "    \n",
      "    fancybox : None or bool\n",
      "        Control whether round edges should be enabled around the\n",
      "        :class:`~matplotlib.patches.FancyBboxPatch` which makes up the\n",
      "        legend's background.\n",
      "        Default is ``None``, which will take the value from\n",
      "        :rc:`legend.fancybox`.\n",
      "    \n",
      "    shadow : None or bool\n",
      "        Control whether to draw a shadow behind the legend.\n",
      "        Default is ``None``, which will take the value from\n",
      "        :rc:`legend.shadow`.\n",
      "    \n",
      "    framealpha : None or float\n",
      "        Control the alpha transparency of the legend's background.\n",
      "        Default is ``None``, which will take the value from\n",
      "        :rc:`legend.framealpha`.  If shadow is activated and\n",
      "        *framealpha* is ``None``, the default value is ignored.\n",
      "    \n",
      "    facecolor : None or \"inherit\" or a color spec\n",
      "        Control the legend's background color.\n",
      "        Default is ``None``, which will take the value from\n",
      "        :rc:`legend.facecolor`.  If ``\"inherit\"``, it will take\n",
      "        :rc:`axes.facecolor`.\n",
      "    \n",
      "    edgecolor : None or \"inherit\" or a color spec\n",
      "        Control the legend's background patch edge color.\n",
      "        Default is ``None``, which will take the value from\n",
      "        :rc:`legend.edgecolor` If ``\"inherit\"``, it will take\n",
      "        :rc:`axes.edgecolor`.\n",
      "    \n",
      "    mode : {\"expand\", None}\n",
      "        If `mode` is set to ``\"expand\"`` the legend will be horizontally\n",
      "        expanded to fill the axes area (or `bbox_to_anchor` if defines\n",
      "        the legend's size).\n",
      "    \n",
      "    bbox_transform : None or :class:`matplotlib.transforms.Transform`\n",
      "        The transform for the bounding box (`bbox_to_anchor`). For a value\n",
      "        of ``None`` (default) the Axes'\n",
      "        :data:`~matplotlib.axes.Axes.transAxes` transform will be used.\n",
      "    \n",
      "    title : str or None\n",
      "        The legend's title. Default is no title (``None``).\n",
      "    \n",
      "    title_fontsize: str or None\n",
      "        The fontsize of the legend's title.  Default is the default fontsize.\n",
      "    \n",
      "    borderpad : float or None\n",
      "        The fractional whitespace inside the legend border.\n",
      "        Measured in font-size units.\n",
      "        Default is ``None``, which will take the value from\n",
      "        :rc:`legend.borderpad`.\n",
      "    \n",
      "    labelspacing : float or None\n",
      "        The vertical space between the legend entries.\n",
      "        Measured in font-size units.\n",
      "        Default is ``None``, which will take the value from\n",
      "        :rc:`legend.labelspacing`.\n",
      "    \n",
      "    handlelength : float or None\n",
      "        The length of the legend handles.\n",
      "        Measured in font-size units.\n",
      "        Default is ``None``, which will take the value from\n",
      "        :rc:`legend.handlelength`.\n",
      "    \n",
      "    handletextpad : float or None\n",
      "        The pad between the legend handle and text.\n",
      "        Measured in font-size units.\n",
      "        Default is ``None``, which will take the value from\n",
      "        :rc:`legend.handletextpad`.\n",
      "    \n",
      "    borderaxespad : float or None\n",
      "        The pad between the axes and legend border.\n",
      "        Measured in font-size units.\n",
      "        Default is ``None``, which will take the value from\n",
      "        :rc:`legend.borderaxespad`.\n",
      "    \n",
      "    columnspacing : float or None\n",
      "        The spacing between columns.\n",
      "        Measured in font-size units.\n",
      "        Default is ``None``, which will take the value from\n",
      "        :rc:`legend.columnspacing`.\n",
      "    \n",
      "    handler_map : dict or None\n",
      "        The custom dictionary mapping instances or types to a legend\n",
      "        handler. This `handler_map` updates the default handler map\n",
      "        found at :func:`matplotlib.legend.Legend.get_legend_handler_map`.\n",
      "    \n",
      "    \n",
      "    \n",
      "    Returns\n",
      "    -------\n",
      "    \n",
      "    :class:`matplotlib.legend.Legend` instance\n",
      "    \n",
      "    Notes\n",
      "    -----\n",
      "    \n",
      "    Not all kinds of artist are supported by the legend command. See\n",
      "    :doc:`/tutorials/intermediate/legend_guide` for details.\n",
      "    \n",
      "    Examples\n",
      "    --------\n",
      "    \n",
      "    .. plot:: gallery/text_labels_and_annotations/legend.py\n",
      "\n"
     ]
    }
   ],
   "source": [
    "help(plt.legend)"
   ]
  },
  {
   "cell_type": "markdown",
   "metadata": {},
   "source": [
    "# Gaussian Data Set Example"
   ]
  },
  {
   "cell_type": "markdown",
   "metadata": {},
   "source": [
    "Data from a fluorescence spectroscopy spectrum imported as shown with the exponential model fitting."
   ]
  },
  {
   "cell_type": "code",
   "execution_count": 18,
   "metadata": {},
   "outputs": [
    {
     "data": {
      "text/plain": [
       "[<matplotlib.lines.Line2D at 0x20a82e31fd0>]"
      ]
     },
     "execution_count": 18,
     "metadata": {},
     "output_type": "execute_result"
    },
    {
     "data": {
      "image/png": "[encoded data removed]",
      "text/plain": [
       "<Figure size 432x288 with 1 Axes>"
      ]
     },
     "metadata": {
      "needs_background": "light"
     },
     "output_type": "display_data"
    }
   ],
   "source": [
    "wvlngth, intensity = np.loadtxt(\"30s031320.txt\", usecols=(0,1), unpack = True)\n",
    "index = 350\n",
    "plt.plot(wvlngth[:index], intensity[:index])"
   ]
  },
  {
   "cell_type": "markdown",
   "metadata": {},
   "source": [
    "The defined Gaussian function assumes there are two Gaussian curves to fit; the most prominent curve (maximum approx. 480 nm) is fitted in the cell below. Relative errors for all estimated parameters are shown in a bar chart."
   ]
  },
  {
   "cell_type": "code",
   "execution_count": 19,
   "metadata": {},
   "outputs": [
    {
     "name": "stdout",
     "output_type": "stream",
     "text": [
      "[1.19725984e-01 3.84588012e-02 3.12503118e+02 4.80428715e+02\n",
      " 8.46752592e+01 1.38168875e+01 5.38158698e-03]\n",
      "[3.01979144e-03 6.87647959e-04 4.62311309e+00 2.41934146e-01\n",
      " 2.46453025e+00 3.11253810e-01 2.08086823e-04]\n"
     ]
    },
    {
     "data": {
      "text/plain": [
       "Text(0.5, 0, 'Parameters of Model Equation')"
      ]
     },
     "execution_count": 19,
     "metadata": {},
     "output_type": "execute_result"
    },
    {
     "data": {
      "image/png": "[encoded data removed]",
      "text/plain": [
       "<Figure size 432x288 with 1 Axes>"
      ]
     },
     "metadata": {
      "needs_background": "light"
     },
     "output_type": "display_data"
    },
    {
     "data": {
      "image/png": "[encoded data removed]",
      "text/plain": [
       "<Figure size 432x288 with 1 Axes>"
      ]
     },
     "metadata": {
      "needs_background": "light"
     },
     "output_type": "display_data"
    },
    {
     "data": {
      "image/png": "[encoded data removed]",
      "text/plain": [
       "<Figure size 432x288 with 1 Axes>"
      ]
     },
     "metadata": {
      "needs_background": "light"
     },
     "output_type": "display_data"
    },
    {
     "data": {
      "image/png": "[encoded data removed]",
      "text/plain": [
       "<Figure size 432x288 with 1 Axes>"
      ]
     },
     "metadata": {
      "needs_background": "light"
     },
     "output_type": "display_data"
    }
   ],
   "source": [
    "x=wvlngth[:index]\n",
    "y=intensity[:index]\n",
    "n=len(x)\n",
    "#Number of data points\n",
    "\n",
    "popt,pcov = curve_fit(gauss_function, x, y, p0 = [0.12, 0.05, 350, 480, 50, 1, 0])\n",
    "\n",
    "plt.figure(1)\n",
    "plt.plot(x,y,'b+:',label='data')\n",
    "#This is plotting the original data with the new x and y defined variables\n",
    "\n",
    "plt.figure(2)\n",
    "plt.plot(x, gauss_function(x, *popt), 'ro:', label='fit')\n",
    "#optimizes parameter values so the sum of squared residuals is minimized (if y data was subtracted)\n",
    "#The fit of the data assuming multiple Gaussians\n",
    "\n",
    "plt.figure(3)\n",
    "plt.plot(x, popt[1]*np.exp(-(x-popt[3])**2/(2*popt[5]**2)))\n",
    "#I think this is optimizing a1, b1, and c1 specifically and focusing on the curve itself\n",
    "plt.ylabel(\"Absorbance (a.u.)\", fontsize=20)\n",
    "plt.xlabel(\"Wavelength (nm)\", fontsize=20)\n",
    "\n",
    "popt_sec, pcov_sec = curve_fit(gauss_function, x, y, p0 = [0.12, 0.05, 350, 480, 50, 1, 0])\n",
    "perr_sec = np.sqrt(np.diag(pcov_sec))\n",
    "print(popt_sec)\n",
    "print(perr_sec)\n",
    "plt.figure(4)\n",
    "plt.bar(('a1','a2','b1','b2','c1','c2','o'), perr_sec/popt_sec*100)\n",
    "plt.ylabel(\"Percent Error (%)\")\n",
    "plt.xlabel(\"Parameters of Model Equation\")"
   ]
  },
  {
   "cell_type": "markdown",
   "metadata": {},
   "source": [
    "The other Gaussian curve (maximum approx. 350 nm) is fitted with an adjusted x-axis."
   ]
  },
  {
   "cell_type": "code",
   "execution_count": 20,
   "metadata": {
    "scrolled": false
   },
   "outputs": [
    {
     "name": "stdout",
     "output_type": "stream",
     "text": [
      "[1.19725984e-01 3.84588012e-02 3.12503118e+02 4.80428715e+02\n",
      " 8.46752592e+01 1.38168875e+01 5.38158698e-03]\n",
      "[3.01979144e-03 6.87647959e-04 4.62311309e+00 2.41934146e-01\n",
      " 2.46453025e+00 3.11253810e-01 2.08086823e-04]\n"
     ]
    },
    {
     "data": {
      "text/plain": [
       "Text(0.5, 0, 'Parameters of Model Equation')"
      ]
     },
     "execution_count": 20,
     "metadata": {},
     "output_type": "execute_result"
    },
    {
     "data": {
      "image/png": "[encoded data removed]",
      "text/plain": [
       "<Figure size 432x288 with 1 Axes>"
      ]
     },
     "metadata": {
      "needs_background": "light"
     },
     "output_type": "display_data"
    },
    {
     "data": {
      "image/png": "[encoded data removed]",
      "text/plain": [
       "<Figure size 432x288 with 1 Axes>"
      ]
     },
     "metadata": {
      "needs_background": "light"
     },
     "output_type": "display_data"
    },
    {
     "data": {
      "image/png": "[encoded data removed]",
      "text/plain": [
       "<Figure size 432x288 with 1 Axes>"
      ]
     },
     "metadata": {
      "needs_background": "light"
     },
     "output_type": "display_data"
    },
    {
     "data": {
      "image/png": "[encoded data removed]",
      "text/plain": [
       "<Figure size 432x288 with 1 Axes>"
      ]
     },
     "metadata": {
      "needs_background": "light"
     },
     "output_type": "display_data"
    }
   ],
   "source": [
    "x=wvlngth[:index]\n",
    "y=intensity[:index]\n",
    "n=len(x)\n",
    "\n",
    "popt,pcov = curve_fit(gauss_function, x, y, p0 = [0.12, 0.05, 350, 480, 50, 1, 0])\n",
    "\n",
    "plt.figure(1)\n",
    "plt.plot(x,y,'b+:',label='data')\n",
    "\n",
    "plt.figure(2)\n",
    "plt.plot(x, gauss_function(x, *popt), 'ro:', label='fit')\n",
    "\n",
    "plt.figure(3)\n",
    "x_adjust = np.arange(0, 701, 1)\n",
    "plt.plot(x_adjust, popt[0]*np.exp(-(x_adjust-popt[2])**2/(2*popt[4]**2)))\n",
    "plt.ylabel(\"Absorbance (a.u.)\", fontsize=20)\n",
    "plt.xlabel(\"Wavelength (nm)\", fontsize=20)\n",
    "\n",
    "\n",
    "popt_sec, pcov_sec = curve_fit(gauss_function, x, y, p0 = [0.12, 0.05, 350, 480, 50, 1, 0])\n",
    "perr_sec = np.sqrt(np.diag(pcov_sec))\n",
    "print(popt_sec)\n",
    "print(perr_sec)\n",
    "plt.figure(4)\n",
    "plt.bar(('a1','a2','b1','b2','c1','c2','o'), perr_sec/popt_sec*100)\n",
    "plt.ylabel(\"Percent Error (%)\")\n",
    "plt.xlabel(\"Parameters of Model Equation\")"
   ]
  },
  {
   "cell_type": "markdown",
   "metadata": {},
   "source": [
    "Next steps: Accessing t-table in Python; continuing to learn about broadcasting; more advanced statistical packages; looking back at questions in comments."
   ]
  },
  {
   "cell_type": "markdown",
   "metadata": {},
   "source": [
    "Author: Karis Barnett | Last modified: 2/21/2021"
   ]
  }
 ],
 "metadata": {
  "kernelspec": {
   "display_name": "Python 3",
   "language": "python",
   "name": "python3"
  },
  "language_info": {
   "codemirror_mode": {
    "name": "ipython",
    "version": 3
   },
   "file_extension": ".py",
   "mimetype": "text/x-python",
   "name": "python",
   "nbconvert_exporter": "python",
   "pygments_lexer": "ipython3",
   "version": "3.7.3"
  }
 },
 "nbformat": 4,
 "nbformat_minor": 2
}
